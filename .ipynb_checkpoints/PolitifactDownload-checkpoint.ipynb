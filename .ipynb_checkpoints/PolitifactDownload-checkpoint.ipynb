{
 "cells": [
  {
   "cell_type": "code",
   "execution_count": 1,
   "metadata": {},
   "outputs": [],
   "source": [
    "import numpy as np\n",
    "import pandas as pd\n",
    "import re\n",
    "import urllib\n",
    "from urllib.request import Request, urlopen\n",
    "import csv\n",
    "import json\n",
    "import requests"
   ]
  },
  {
   "cell_type": "code",
   "execution_count": 15,
   "metadata": {},
   "outputs": [],
   "source": [
    "#https://www.politifact.com//api/v/2/statementlist/?order_by=-ruling_date&offset=1&limit=1&format=json\n",
    "def get_data(i):\n",
    "    response = requests.get('https://www.politifact.com//api/v/2/statementlist/?order_by=-ruling_date&offset='+str(i)+'&limit=1&format=json')\n",
    "    a = json.loads(response.text)['objects'][0]\n",
    "    return a"
   ]
  },
  {
   "cell_type": "code",
   "execution_count": 16,
   "metadata": {},
   "outputs": [
    {
     "name": "stdout",
     "output_type": "stream",
     "text": [
      "<class 'dict'>\n"
     ]
    }
   ],
   "source": [
    "\n",
    "hey = get_data(1)\n",
    "\n",
    "print(type(hey))"
   ]
  },
  {
   "cell_type": "code",
   "execution_count": 21,
   "metadata": {},
   "outputs": [
    {
     "data": {
      "text/plain": [
       "'2018-12-09'"
      ]
     },
     "execution_count": 21,
     "metadata": {},
     "output_type": "execute_result"
    }
   ],
   "source": [
    "date = hey['statement_date']"
   ]
  },
  {
   "cell_type": "code",
   "execution_count": 25,
   "metadata": {},
   "outputs": [
    {
     "data": {
      "text/plain": [
       "'Half True'"
      ]
     },
     "execution_count": 25,
     "metadata": {},
     "output_type": "execute_result"
    }
   ],
   "source": [
    "label = hey['ruling']['advalue']\n",
    "label"
   ]
  },
  {
   "cell_type": "code",
   "execution_count": 28,
   "metadata": {},
   "outputs": [
    {
     "data": {
      "text/plain": [
       "['Economy', 'Jobs', 'Women']"
      ]
     },
     "execution_count": 28,
     "metadata": {},
     "output_type": "execute_result"
    }
   ],
   "source": [
    "subjects = [sub['subject'] for sub in hey['subject']]\n",
    "subjects"
   ]
  },
  {
   "cell_type": "code",
   "execution_count": null,
   "metadata": {},
   "outputs": [],
   "source": [
    "political_party = hey['party']['party']\n",
    "subjects"
   ]
  },
  {
   "cell_type": "code",
   "execution_count": 18,
   "metadata": {},
   "outputs": [
    {
     "data": {
      "text/plain": [
       "{'art': [],\n",
       " 'author': ['/api/v/2/staffer/257/'],\n",
       " 'campaign': [],\n",
       " 'canonical_url': '/truth-o-meter/statements/2018/dec/12/christine-lagarde/if-women-worked-much-men-would-gdp-jump-5/',\n",
       " 'edition': '/api/v/2/edition/1/',\n",
       " 'editor': ['/api/v/2/staffer/231/'],\n",
       " 'facebook_headline': 'If women worked as much as men, would US GDP jump 5 percent?',\n",
       " 'id': 16298,\n",
       " 'is_pundit': False,\n",
       " 'make_public': True,\n",
       " 'preview': True,\n",
       " 'researcher': ['/api/v/2/staffer/257/'],\n",
       " 'resource_uri': '/api/v/2/statementlist/16298/',\n",
       " 'ruling': {'adkey': 'Truth-O-Meter',\n",
       "  'advalue': 'Half True',\n",
       "  'id': 3,\n",
       "  'resource_uri': '/api/v/2/statementruling/3/',\n",
       "  'ruling': 'Half-True',\n",
       "  'ruling_graphic': 'https://s3.amazonaws.com/static.politifact.com/rulings/tom-halftrue.png',\n",
       "  'ruling_slug': 'half-true'},\n",
       " 'ruling_comments_date': '2018-12-12T10:29:48.244109',\n",
       " 'ruling_date': '2018-12-12T11:27:28',\n",
       " 'ruling_headline': 'If women worked as much as men, would US GDP jump 5 percent?',\n",
       " 'ruling_headline_slug': 'if-women-worked-much-men-would-gdp-jump-5',\n",
       " 'ruling_link_text': 'A back of envelope estimate',\n",
       " 'ruling_state': None,\n",
       " 'source_documents': None,\n",
       " 'speaker': {'adkey': '',\n",
       "  'advalue': '',\n",
       "  'barely_true_count': 0,\n",
       "  'current_job': '',\n",
       "  'false_count': 0,\n",
       "  'first_name': 'Christine',\n",
       "  'half_true_count': 1,\n",
       "  'home_state': '',\n",
       "  'id': 4503,\n",
       "  'last_name': 'Lagarde',\n",
       "  'mostly_true_count': 0,\n",
       "  'name_slug': 'christine-lagarde',\n",
       "  'pants_count': 0,\n",
       "  'party': {'id': 2,\n",
       "   'party': 'None',\n",
       "   'party_slug': 'none',\n",
       "   'resource_uri': '/api/v/2/party/2/'},\n",
       "  'photo': 'https://s3.amazonaws.com/static.politifact.com/politifact/mugs/Largarde.jpg',\n",
       "  'primary_edition': {'adkey': 'Editions',\n",
       "   'advalue': 'National',\n",
       "   'edition': 'National',\n",
       "   'edition_slug': 'truth-o-meter',\n",
       "   'has_afterthefact': False,\n",
       "   'id': 1,\n",
       "   'index_page': True,\n",
       "   'meter_name': 'The Truth-O-Meter<sup>TM</sup>',\n",
       "   'resource_uri': '/api/v/2/edition/1/'},\n",
       "  'promise_meter_cutout': None,\n",
       "  'resource_uri': '/api/v/2/person/4503/',\n",
       "  'total_count': 1,\n",
       "  'true_count': 0,\n",
       "  'website': ''},\n",
       " 'statement': '<p>&quot;In the United States, if there was equal participation of women in the labor market, GDP would be up by 5 percent.&quot;</p>\\r\\n\\r\\n<div>&nbsp;</div>\\r\\n',\n",
       " 'statement_context': \"an interview with CBS News' Face the Nation\",\n",
       " 'statement_date': '2018-12-09',\n",
       " 'subject': [{'description': '',\n",
       "   'id': 4,\n",
       "   'photo': None,\n",
       "   'resource_uri': '/api/v/2/subject/4/',\n",
       "   'subject': 'Economy',\n",
       "   'subject_slug': 'economy',\n",
       "   'used_in_edition': []},\n",
       "  {'description': '',\n",
       "   'id': 175,\n",
       "   'photo': None,\n",
       "   'resource_uri': '/api/v/2/subject/175/',\n",
       "   'subject': 'Jobs',\n",
       "   'subject_slug': 'jobs',\n",
       "   'used_in_edition': ['/api/v/2/edition/8/']},\n",
       "  {'description': '',\n",
       "   'id': 146,\n",
       "   'photo': None,\n",
       "   'resource_uri': '/api/v/2/subject/146/',\n",
       "   'subject': 'Women',\n",
       "   'subject_slug': 'women',\n",
       "   'used_in_edition': []}],\n",
       " 'target': [],\n",
       " 'twitter_headline': 'If women worked as much as men, would GDP jump 5 percent?'}"
      ]
     },
     "execution_count": 18,
     "metadata": {},
     "output_type": "execute_result"
    }
   ],
   "source": [
    "hey"
   ]
  },
  {
   "cell_type": "code",
   "execution_count": null,
   "metadata": {},
   "outputs": [],
   "source": []
  }
 ],
 "metadata": {
  "kernelspec": {
   "display_name": "Python 3",
   "language": "python",
   "name": "python3"
  },
  "language_info": {
   "codemirror_mode": {
    "name": "ipython",
    "version": 3
   },
   "file_extension": ".py",
   "mimetype": "text/x-python",
   "name": "python",
   "nbconvert_exporter": "python",
   "pygments_lexer": "ipython3",
   "version": "3.6.5"
  }
 },
 "nbformat": 4,
 "nbformat_minor": 2
}
