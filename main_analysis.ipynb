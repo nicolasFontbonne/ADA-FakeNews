{
 "cells": [
  {
   "cell_type": "markdown",
   "metadata": {},
   "source": [
    "# *Yellow is the new black*\n",
    "------"
   ]
  },
  {
   "cell_type": "markdown",
   "metadata": {},
   "source": [
    "## Abstract\n",
    "The creation and propagation of false information has existed since the dawn of time.\n",
    "Behind these misleading elements are often hidden political or financial intentions, in order to gain credit or make competitors lose it.\n",
    "With the advent of the Internet and the ever faster and more direct flow of information, it is becoming easier every day to deceive your fellow citizens and to be fooled.\n",
    "The term *fake news* took on a new dimension during the 2016 American presidential election, when Donald Trump used it extensively to describe the media coverage about himself. In this instantaneous era, it becomes crucial to be able to be critical of the information received. With this work, we want to highlight the risks related to the propagation of false information by using the fakes news themselves, from the Liar database. The power that these fake new vehicles hold is mostly in the use and resonance we make of them. Our credulity becomes credibility, it's up to us to turn the equation the other way around!\n",
    "\n",
    "------"
   ]
  },
  {
   "cell_type": "code",
   "execution_count": 1,
   "metadata": {},
   "outputs": [],
   "source": [
    "import numpy as np\n",
    "import matplotlib.pyplot as plt\n",
    "import pandas as pd\n",
    "import re\n",
    "import urllib\n",
    "from urllib.request import Request, urlopen\n",
    "import json\n",
    "from bs4 import BeautifulSoup\n",
    "from PIL import Image"
   ]
  },
  {
   "cell_type": "markdown",
   "metadata": {},
   "source": [
    "<div class=\"alert alert-block alert-info\"><b>To do: </b>\n",
    "<br />- Part A: Data Loading and expanding <br />\n",
    "- Part B: Majority subjects and profession among the liars analysis<br />\n",
    "- Part C: Geographical analysis<br />\n",
    "- Part D: Vocabulary analysis<br />\n",
    "</div>"
   ]
  },
  {
   "cell_type": "markdown",
   "metadata": {},
   "source": [
    "------"
   ]
  },
  {
   "cell_type": "markdown",
   "metadata": {},
   "source": [
    "## Data Loading and Cleaning"
   ]
  },
  {
   "cell_type": "code",
   "execution_count": 2,
   "metadata": {},
   "outputs": [],
   "source": [
    "datapath = 'data/liar_dataset/'"
   ]
  },
  {
   "cell_type": "markdown",
   "metadata": {},
   "source": [
    "The files are simple *tsv* which is similar to *csv* with tabs instead of comma. All the columns names are known from the `README` files that accompagne the data"
   ]
  },
  {
   "cell_type": "code",
   "execution_count": 3,
   "metadata": {},
   "outputs": [],
   "source": [
    "columns = ['ID', \n",
    "           'Label', \n",
    "           'Statement', \n",
    "           'Subject', \n",
    "           'Speaker', \n",
    "           'Job title', \n",
    "           'Home State', \n",
    "           'Party Affiliations', \n",
    "           'Barely True Counts', \n",
    "           'False Counts', \n",
    "           'Half True Counts', \n",
    "           'Mostly True Counts', \n",
    "           'Pants on Fire Counts', \n",
    "           'Context']\n",
    "liar_df = pd.read_csv(datapath + 'train.tsv',delimiter='\\t',encoding='utf-8', names = columns)"
   ]
  },
  {
   "cell_type": "markdown",
   "metadata": {},
   "source": [
    "* Column 1: the ID of the statement ([ID].json).\n",
    "* Column 2: the label.\n",
    "* Column 3: the statement.\n",
    "* Column 4: the subject(s).\n",
    "* Column 5: the speaker.\n",
    "* Column 6: the speaker's job title.\n",
    "* Column 7: the state info.\n",
    "* Column 8: the party affiliation.\n",
    "* Column 9-13: the total credit history count, including the current statement.\n",
    "    * 9: barely true counts.\n",
    "    * 10: false counts.\n",
    "    * 11: half true counts.\n",
    "    * 12: mostly true counts.\n",
    "    * 13: pants on fire counts.\n",
    "* Column 14: the context (venue / location of the speech or statement)."
   ]
  },
  {
   "cell_type": "code",
   "execution_count": 4,
   "metadata": {
    "scrolled": false
   },
   "outputs": [
    {
     "data": {
      "text/html": [
       "<div>\n",
       "<style scoped>\n",
       "    .dataframe tbody tr th:only-of-type {\n",
       "        vertical-align: middle;\n",
       "    }\n",
       "\n",
       "    .dataframe tbody tr th {\n",
       "        vertical-align: top;\n",
       "    }\n",
       "\n",
       "    .dataframe thead th {\n",
       "        text-align: right;\n",
       "    }\n",
       "</style>\n",
       "<table border=\"1\" class=\"dataframe\">\n",
       "  <thead>\n",
       "    <tr style=\"text-align: right;\">\n",
       "      <th></th>\n",
       "      <th>ID</th>\n",
       "      <th>Label</th>\n",
       "      <th>Statement</th>\n",
       "      <th>Subject</th>\n",
       "      <th>Speaker</th>\n",
       "      <th>Job title</th>\n",
       "      <th>Home State</th>\n",
       "      <th>Party Affiliations</th>\n",
       "      <th>Barely True Counts</th>\n",
       "      <th>False Counts</th>\n",
       "      <th>Half True Counts</th>\n",
       "      <th>Mostly True Counts</th>\n",
       "      <th>Pants on Fire Counts</th>\n",
       "      <th>Context</th>\n",
       "    </tr>\n",
       "  </thead>\n",
       "  <tbody>\n",
       "    <tr>\n",
       "      <th>0</th>\n",
       "      <td>2635.json</td>\n",
       "      <td>false</td>\n",
       "      <td>Says the Annies List political group supports ...</td>\n",
       "      <td>abortion</td>\n",
       "      <td>dwayne-bohac</td>\n",
       "      <td>State representative</td>\n",
       "      <td>Texas</td>\n",
       "      <td>republican</td>\n",
       "      <td>0.0</td>\n",
       "      <td>1.0</td>\n",
       "      <td>0.0</td>\n",
       "      <td>0.0</td>\n",
       "      <td>0.0</td>\n",
       "      <td>a mailer</td>\n",
       "    </tr>\n",
       "    <tr>\n",
       "      <th>1</th>\n",
       "      <td>10540.json</td>\n",
       "      <td>half-true</td>\n",
       "      <td>When did the decline of coal start? It started...</td>\n",
       "      <td>energy,history,job-accomplishments</td>\n",
       "      <td>scott-surovell</td>\n",
       "      <td>State delegate</td>\n",
       "      <td>Virginia</td>\n",
       "      <td>democrat</td>\n",
       "      <td>0.0</td>\n",
       "      <td>0.0</td>\n",
       "      <td>1.0</td>\n",
       "      <td>1.0</td>\n",
       "      <td>0.0</td>\n",
       "      <td>a floor speech.</td>\n",
       "    </tr>\n",
       "    <tr>\n",
       "      <th>2</th>\n",
       "      <td>324.json</td>\n",
       "      <td>mostly-true</td>\n",
       "      <td>Hillary Clinton agrees with John McCain \"by vo...</td>\n",
       "      <td>foreign-policy</td>\n",
       "      <td>barack-obama</td>\n",
       "      <td>President</td>\n",
       "      <td>Illinois</td>\n",
       "      <td>democrat</td>\n",
       "      <td>70.0</td>\n",
       "      <td>71.0</td>\n",
       "      <td>160.0</td>\n",
       "      <td>163.0</td>\n",
       "      <td>9.0</td>\n",
       "      <td>Denver</td>\n",
       "    </tr>\n",
       "    <tr>\n",
       "      <th>3</th>\n",
       "      <td>1123.json</td>\n",
       "      <td>false</td>\n",
       "      <td>Health care reform legislation is likely to ma...</td>\n",
       "      <td>health-care</td>\n",
       "      <td>blog-posting</td>\n",
       "      <td>NaN</td>\n",
       "      <td>NaN</td>\n",
       "      <td>none</td>\n",
       "      <td>7.0</td>\n",
       "      <td>19.0</td>\n",
       "      <td>3.0</td>\n",
       "      <td>5.0</td>\n",
       "      <td>44.0</td>\n",
       "      <td>a news release</td>\n",
       "    </tr>\n",
       "    <tr>\n",
       "      <th>4</th>\n",
       "      <td>9028.json</td>\n",
       "      <td>half-true</td>\n",
       "      <td>The economic turnaround started at the end of ...</td>\n",
       "      <td>economy,jobs</td>\n",
       "      <td>charlie-crist</td>\n",
       "      <td>NaN</td>\n",
       "      <td>Florida</td>\n",
       "      <td>democrat</td>\n",
       "      <td>15.0</td>\n",
       "      <td>9.0</td>\n",
       "      <td>20.0</td>\n",
       "      <td>19.0</td>\n",
       "      <td>2.0</td>\n",
       "      <td>an interview on CNN</td>\n",
       "    </tr>\n",
       "  </tbody>\n",
       "</table>\n",
       "</div>"
      ],
      "text/plain": [
       "           ID        Label                                          Statement  \\\n",
       "0   2635.json        false  Says the Annies List political group supports ...   \n",
       "1  10540.json    half-true  When did the decline of coal start? It started...   \n",
       "2    324.json  mostly-true  Hillary Clinton agrees with John McCain \"by vo...   \n",
       "3   1123.json        false  Health care reform legislation is likely to ma...   \n",
       "4   9028.json    half-true  The economic turnaround started at the end of ...   \n",
       "\n",
       "                              Subject         Speaker             Job title  \\\n",
       "0                            abortion    dwayne-bohac  State representative   \n",
       "1  energy,history,job-accomplishments  scott-surovell        State delegate   \n",
       "2                      foreign-policy    barack-obama             President   \n",
       "3                         health-care    blog-posting                   NaN   \n",
       "4                        economy,jobs   charlie-crist                   NaN   \n",
       "\n",
       "  Home State Party Affiliations  Barely True Counts  False Counts  \\\n",
       "0      Texas         republican                 0.0           1.0   \n",
       "1   Virginia           democrat                 0.0           0.0   \n",
       "2   Illinois           democrat                70.0          71.0   \n",
       "3        NaN               none                 7.0          19.0   \n",
       "4    Florida           democrat                15.0           9.0   \n",
       "\n",
       "   Half True Counts  Mostly True Counts  Pants on Fire Counts  \\\n",
       "0               0.0                 0.0                   0.0   \n",
       "1               1.0                 1.0                   0.0   \n",
       "2             160.0               163.0                   9.0   \n",
       "3               3.0                 5.0                  44.0   \n",
       "4              20.0                19.0                   2.0   \n",
       "\n",
       "               Context  \n",
       "0             a mailer  \n",
       "1      a floor speech.  \n",
       "2               Denver  \n",
       "3       a news release  \n",
       "4  an interview on CNN  "
      ]
     },
     "execution_count": 4,
     "metadata": {},
     "output_type": "execute_result"
    }
   ],
   "source": [
    "liar_df.head()"
   ]
  },
  {
   "cell_type": "markdown",
   "metadata": {},
   "source": [
    "------"
   ]
  },
  {
   "cell_type": "markdown",
   "metadata": {},
   "source": [
    "This function allows to extract additionnal information from the politifact website by downloading the json source file and returning the json structure parsed."
   ]
  },
  {
   "cell_type": "code",
   "execution_count": 5,
   "metadata": {},
   "outputs": [],
   "source": [
    "def get_additional_info(ID):\n",
    "    idx =  re.search(\"[0-9]*\", ID)\n",
    "    req = Request('http://www.politifact.com//api/v/2/statement/'+idx.group()+'/?format=json', headers={'User-Agent': 'Mozilla/5.0'})\n",
    "    response = urllib.request.urlopen(req, timeout=10).read().decode('utf-8')\n",
    "    a = json.loads(response)\n",
    "    return a"
   ]
  },
  {
   "cell_type": "code",
   "execution_count": 6,
   "metadata": {},
   "outputs": [
    {
     "name": "stdout",
     "output_type": "stream",
     "text": [
      "<p>\n",
      " Health care reform legislation is “likely to mandate free ‘sex change’ surgeries.”\n",
      "</p>\n"
     ]
    }
   ],
   "source": [
    "print(BeautifulSoup(get_additional_info(\"1123.json\")['statement'], 'html.parser').prettify())\n",
    "#get_additional_info(\"1123.json\")['statement_date']"
   ]
  },
  {
   "cell_type": "code",
   "execution_count": 7,
   "metadata": {},
   "outputs": [],
   "source": [
    "liar_df['Date'] = pd.Series(np.zeros(len(liar_df)), index=liar_df.index)"
   ]
  },
  {
   "cell_type": "code",
   "execution_count": 8,
   "metadata": {},
   "outputs": [],
   "source": [
    "#for i in range(0,len(liar_df)):\n",
    "#    liar_df.loc[i,'Date'] = get_additional_info(liar_df.loc[i,'ID'])['statement_date']"
   ]
  },
  {
   "cell_type": "code",
   "execution_count": 9,
   "metadata": {},
   "outputs": [],
   "source": [
    "liar_df['Date'] = pd.to_datetime(liar_df['Date'])"
   ]
  },
  {
   "cell_type": "markdown",
   "metadata": {},
   "source": [
    "------"
   ]
  },
  {
   "cell_type": "markdown",
   "metadata": {},
   "source": [
    "All of the result and interpretation we can have from this dataset are conditionned on it. More precisely, the dataset has been constructed from differents sources of media. This selection can be biased. To lower the impact of this bias, the authors have make sure to balance the numbers of article extrated between the two american political parties. But this balance can or cannot represent the reality. It can be interesting to check it the sampling can be considered as representative or not."
   ]
  },
  {
   "cell_type": "markdown",
   "metadata": {},
   "source": [
    "------"
   ]
  },
  {
   "cell_type": "code",
   "execution_count": 10,
   "metadata": {},
   "outputs": [],
   "source": [
    "def get_truth_distribution(data, col_name, count_threshold, normalize = True):\n",
    "    df = data[[col_name, \"ID\", \"Label\"]]\n",
    "    df.columns = [col_name, \"Percent\", \"Label\"]\n",
    "    col_subject = df.groupby([col_name, \"Label\"]).count()[[\"Percent\"]]\n",
    "    col_subject = col_subject.unstack('Label')\n",
    "    col_subject = col_subject.fillna(0)\n",
    "    col_subject = col_subject[[('Percent', 'false'), ('Percent', 'pants-fire'), ('Percent', 'barely-true'),('Percent', 'half-true'),('Percent', 'mostly-true'),('Percent', 'true')]]\n",
    "    col_subject = col_subject[col_subject.sum(axis = 1) >= count_threshold]\n",
    "    if normalize == True:\n",
    "        col_subject = col_subject.div(col_subject.sum(axis = 1),axis = 'index')\n",
    "    col_subject = col_subject.sort_values(by=[('Percent', 'false')], ascending = False)\n",
    "    return col_subject"
   ]
  },
  {
   "cell_type": "markdown",
   "metadata": {},
   "source": [
    "---\n",
    "## Determine which are the main subjects falsely propagated in the United States."
   ]
  },
  {
   "cell_type": "code",
   "execution_count": 11,
   "metadata": {},
   "outputs": [
    {
     "data": {
      "text/plain": [
       "array(['false', 'half-true', 'mostly-true', 'true', 'barely-true',\n",
       "       'pants-fire'], dtype=object)"
      ]
     },
     "execution_count": 11,
     "metadata": {},
     "output_type": "execute_result"
    }
   ],
   "source": [
    "liar_df['Label'].unique()"
   ]
  },
  {
   "cell_type": "code",
   "execution_count": 12,
   "metadata": {},
   "outputs": [
    {
     "data": {
      "text/html": [
       "<div>\n",
       "<style scoped>\n",
       "    .dataframe tbody tr th:only-of-type {\n",
       "        vertical-align: middle;\n",
       "    }\n",
       "\n",
       "    .dataframe tbody tr th {\n",
       "        vertical-align: top;\n",
       "    }\n",
       "\n",
       "    .dataframe thead tr th {\n",
       "        text-align: left;\n",
       "    }\n",
       "\n",
       "    .dataframe thead tr:last-of-type th {\n",
       "        text-align: right;\n",
       "    }\n",
       "</style>\n",
       "<table border=\"1\" class=\"dataframe\">\n",
       "  <thead>\n",
       "    <tr>\n",
       "      <th></th>\n",
       "      <th colspan=\"6\" halign=\"left\">Percent</th>\n",
       "    </tr>\n",
       "    <tr>\n",
       "      <th>Label</th>\n",
       "      <th>false</th>\n",
       "      <th>pants-fire</th>\n",
       "      <th>barely-true</th>\n",
       "      <th>half-true</th>\n",
       "      <th>mostly-true</th>\n",
       "      <th>true</th>\n",
       "    </tr>\n",
       "    <tr>\n",
       "      <th>Subject</th>\n",
       "      <th></th>\n",
       "      <th></th>\n",
       "      <th></th>\n",
       "      <th></th>\n",
       "      <th></th>\n",
       "      <th></th>\n",
       "    </tr>\n",
       "  </thead>\n",
       "  <tbody>\n",
       "    <tr>\n",
       "      <th>health-care</th>\n",
       "      <td>0.249344</td>\n",
       "      <td>0.097113</td>\n",
       "      <td>0.173228</td>\n",
       "      <td>0.199475</td>\n",
       "      <td>0.133858</td>\n",
       "      <td>0.146982</td>\n",
       "    </tr>\n",
       "    <tr>\n",
       "      <th>immigration</th>\n",
       "      <td>0.209486</td>\n",
       "      <td>0.098814</td>\n",
       "      <td>0.166008</td>\n",
       "      <td>0.229249</td>\n",
       "      <td>0.209486</td>\n",
       "      <td>0.086957</td>\n",
       "    </tr>\n",
       "    <tr>\n",
       "      <th>elections</th>\n",
       "      <td>0.206349</td>\n",
       "      <td>0.119048</td>\n",
       "      <td>0.126984</td>\n",
       "      <td>0.142857</td>\n",
       "      <td>0.174603</td>\n",
       "      <td>0.230159</td>\n",
       "    </tr>\n",
       "    <tr>\n",
       "      <th>economy</th>\n",
       "      <td>0.175182</td>\n",
       "      <td>0.021898</td>\n",
       "      <td>0.175182</td>\n",
       "      <td>0.218978</td>\n",
       "      <td>0.167883</td>\n",
       "      <td>0.240876</td>\n",
       "    </tr>\n",
       "    <tr>\n",
       "      <th>candidates-biography</th>\n",
       "      <td>0.173684</td>\n",
       "      <td>0.136842</td>\n",
       "      <td>0.205263</td>\n",
       "      <td>0.115789</td>\n",
       "      <td>0.168421</td>\n",
       "      <td>0.200000</td>\n",
       "    </tr>\n",
       "    <tr>\n",
       "      <th>taxes</th>\n",
       "      <td>0.172078</td>\n",
       "      <td>0.068182</td>\n",
       "      <td>0.162338</td>\n",
       "      <td>0.220779</td>\n",
       "      <td>0.204545</td>\n",
       "      <td>0.172078</td>\n",
       "    </tr>\n",
       "    <tr>\n",
       "      <th>federal-budget</th>\n",
       "      <td>0.165289</td>\n",
       "      <td>0.041322</td>\n",
       "      <td>0.115702</td>\n",
       "      <td>0.239669</td>\n",
       "      <td>0.231405</td>\n",
       "      <td>0.206612</td>\n",
       "    </tr>\n",
       "    <tr>\n",
       "      <th>guns</th>\n",
       "      <td>0.161538</td>\n",
       "      <td>0.084615</td>\n",
       "      <td>0.115385</td>\n",
       "      <td>0.230769</td>\n",
       "      <td>0.184615</td>\n",
       "      <td>0.223077</td>\n",
       "    </tr>\n",
       "    <tr>\n",
       "      <th>economy,jobs</th>\n",
       "      <td>0.144000</td>\n",
       "      <td>0.040000</td>\n",
       "      <td>0.112000</td>\n",
       "      <td>0.296000</td>\n",
       "      <td>0.192000</td>\n",
       "      <td>0.216000</td>\n",
       "    </tr>\n",
       "    <tr>\n",
       "      <th>education</th>\n",
       "      <td>0.143460</td>\n",
       "      <td>0.037975</td>\n",
       "      <td>0.143460</td>\n",
       "      <td>0.219409</td>\n",
       "      <td>0.265823</td>\n",
       "      <td>0.189873</td>\n",
       "    </tr>\n",
       "  </tbody>\n",
       "</table>\n",
       "</div>"
      ],
      "text/plain": [
       "                       Percent                                               \\\n",
       "Label                    false pants-fire barely-true half-true mostly-true   \n",
       "Subject                                                                       \n",
       "health-care           0.249344   0.097113    0.173228  0.199475    0.133858   \n",
       "immigration           0.209486   0.098814    0.166008  0.229249    0.209486   \n",
       "elections             0.206349   0.119048    0.126984  0.142857    0.174603   \n",
       "economy               0.175182   0.021898    0.175182  0.218978    0.167883   \n",
       "candidates-biography  0.173684   0.136842    0.205263  0.115789    0.168421   \n",
       "taxes                 0.172078   0.068182    0.162338  0.220779    0.204545   \n",
       "federal-budget        0.165289   0.041322    0.115702  0.239669    0.231405   \n",
       "guns                  0.161538   0.084615    0.115385  0.230769    0.184615   \n",
       "economy,jobs          0.144000   0.040000    0.112000  0.296000    0.192000   \n",
       "education             0.143460   0.037975    0.143460  0.219409    0.265823   \n",
       "\n",
       "                                \n",
       "Label                     true  \n",
       "Subject                         \n",
       "health-care           0.146982  \n",
       "immigration           0.086957  \n",
       "elections             0.230159  \n",
       "economy               0.240876  \n",
       "candidates-biography  0.200000  \n",
       "taxes                 0.172078  \n",
       "federal-budget        0.206612  \n",
       "guns                  0.223077  \n",
       "economy,jobs          0.216000  \n",
       "education             0.189873  "
      ]
     },
     "execution_count": 12,
     "metadata": {},
     "output_type": "execute_result"
    }
   ],
   "source": [
    "subject_distribution = get_truth_distribution(liar_df, \"Subject\", 100)\n",
    "subject_distribution"
   ]
  },
  {
   "cell_type": "code",
   "execution_count": 13,
   "metadata": {},
   "outputs": [
    {
     "data": {
      "text/plain": [
       "<matplotlib.axes._subplots.AxesSubplot at 0x1157b4ba8>"
      ]
     },
     "execution_count": 13,
     "metadata": {},
     "output_type": "execute_result"
    },
    {
     "data": {
      "image/png": "[encoded data removed]",
      "text/plain": [
       "<Figure size 432x288 with 1 Axes>"
      ]
     },
     "metadata": {
      "needs_background": "light"
     },
     "output_type": "display_data"
    }
   ],
   "source": [
    "subject_distribution.plot(kind='bar', stacked=True, ec='black')"
   ]
  },
  {
   "cell_type": "markdown",
   "metadata": {},
   "source": [
    "---\n",
    "## What are the preferred formats for which topics?"
   ]
  },
  {
   "cell_type": "markdown",
   "metadata": {},
   "source": [
    "### What are the preferred context to lie?"
   ]
  },
  {
   "cell_type": "code",
   "execution_count": 14,
   "metadata": {},
   "outputs": [
    {
     "data": {
      "text/html": [
       "<div>\n",
       "<style scoped>\n",
       "    .dataframe tbody tr th:only-of-type {\n",
       "        vertical-align: middle;\n",
       "    }\n",
       "\n",
       "    .dataframe tbody tr th {\n",
       "        vertical-align: top;\n",
       "    }\n",
       "\n",
       "    .dataframe thead tr th {\n",
       "        text-align: left;\n",
       "    }\n",
       "\n",
       "    .dataframe thead tr:last-of-type th {\n",
       "        text-align: right;\n",
       "    }\n",
       "</style>\n",
       "<table border=\"1\" class=\"dataframe\">\n",
       "  <thead>\n",
       "    <tr>\n",
       "      <th></th>\n",
       "      <th colspan=\"6\" halign=\"left\">Percent</th>\n",
       "    </tr>\n",
       "    <tr>\n",
       "      <th>Label</th>\n",
       "      <th>false</th>\n",
       "      <th>pants-fire</th>\n",
       "      <th>barely-true</th>\n",
       "      <th>half-true</th>\n",
       "      <th>mostly-true</th>\n",
       "      <th>true</th>\n",
       "    </tr>\n",
       "    <tr>\n",
       "      <th>Context</th>\n",
       "      <th></th>\n",
       "      <th></th>\n",
       "      <th></th>\n",
       "      <th></th>\n",
       "      <th></th>\n",
       "      <th></th>\n",
       "    </tr>\n",
       "  </thead>\n",
       "  <tbody>\n",
       "    <tr>\n",
       "      <th>an interview</th>\n",
       "      <td>0.253275</td>\n",
       "      <td>0.056769</td>\n",
       "      <td>0.131004</td>\n",
       "      <td>0.205240</td>\n",
       "      <td>0.205240</td>\n",
       "      <td>0.148472</td>\n",
       "    </tr>\n",
       "    <tr>\n",
       "      <th>a radio interview</th>\n",
       "      <td>0.226415</td>\n",
       "      <td>0.084906</td>\n",
       "      <td>0.179245</td>\n",
       "      <td>0.207547</td>\n",
       "      <td>0.132075</td>\n",
       "      <td>0.169811</td>\n",
       "    </tr>\n",
       "    <tr>\n",
       "      <th>a press release</th>\n",
       "      <td>0.183857</td>\n",
       "      <td>0.058296</td>\n",
       "      <td>0.152466</td>\n",
       "      <td>0.206278</td>\n",
       "      <td>0.201794</td>\n",
       "      <td>0.197309</td>\n",
       "    </tr>\n",
       "    <tr>\n",
       "      <th>a news release</th>\n",
       "      <td>0.182573</td>\n",
       "      <td>0.091286</td>\n",
       "      <td>0.186722</td>\n",
       "      <td>0.190871</td>\n",
       "      <td>0.170124</td>\n",
       "      <td>0.178423</td>\n",
       "    </tr>\n",
       "    <tr>\n",
       "      <th>a tweet</th>\n",
       "      <td>0.179487</td>\n",
       "      <td>0.108974</td>\n",
       "      <td>0.147436</td>\n",
       "      <td>0.147436</td>\n",
       "      <td>0.243590</td>\n",
       "      <td>0.173077</td>\n",
       "    </tr>\n",
       "    <tr>\n",
       "      <th>a speech</th>\n",
       "      <td>0.158879</td>\n",
       "      <td>0.037383</td>\n",
       "      <td>0.112150</td>\n",
       "      <td>0.252336</td>\n",
       "      <td>0.233645</td>\n",
       "      <td>0.205607</td>\n",
       "    </tr>\n",
       "    <tr>\n",
       "      <th>a TV ad</th>\n",
       "      <td>0.150000</td>\n",
       "      <td>0.072222</td>\n",
       "      <td>0.216667</td>\n",
       "      <td>0.255556</td>\n",
       "      <td>0.200000</td>\n",
       "      <td>0.105556</td>\n",
       "    </tr>\n",
       "    <tr>\n",
       "      <th>a campaign ad</th>\n",
       "      <td>0.143939</td>\n",
       "      <td>0.053030</td>\n",
       "      <td>0.363636</td>\n",
       "      <td>0.234848</td>\n",
       "      <td>0.121212</td>\n",
       "      <td>0.083333</td>\n",
       "    </tr>\n",
       "    <tr>\n",
       "      <th>a television ad</th>\n",
       "      <td>0.138211</td>\n",
       "      <td>0.089431</td>\n",
       "      <td>0.243902</td>\n",
       "      <td>0.308943</td>\n",
       "      <td>0.154472</td>\n",
       "      <td>0.065041</td>\n",
       "    </tr>\n",
       "  </tbody>\n",
       "</table>\n",
       "</div>"
      ],
      "text/plain": [
       "                    Percent                                               \\\n",
       "Label                 false pants-fire barely-true half-true mostly-true   \n",
       "Context                                                                    \n",
       "an interview       0.253275   0.056769    0.131004  0.205240    0.205240   \n",
       "a radio interview  0.226415   0.084906    0.179245  0.207547    0.132075   \n",
       "a press release    0.183857   0.058296    0.152466  0.206278    0.201794   \n",
       "a news release     0.182573   0.091286    0.186722  0.190871    0.170124   \n",
       "a tweet            0.179487   0.108974    0.147436  0.147436    0.243590   \n",
       "a speech           0.158879   0.037383    0.112150  0.252336    0.233645   \n",
       "a TV ad            0.150000   0.072222    0.216667  0.255556    0.200000   \n",
       "a campaign ad      0.143939   0.053030    0.363636  0.234848    0.121212   \n",
       "a television ad    0.138211   0.089431    0.243902  0.308943    0.154472   \n",
       "\n",
       "                             \n",
       "Label                  true  \n",
       "Context                      \n",
       "an interview       0.148472  \n",
       "a radio interview  0.169811  \n",
       "a press release    0.197309  \n",
       "a news release     0.178423  \n",
       "a tweet            0.173077  \n",
       "a speech           0.205607  \n",
       "a TV ad            0.105556  \n",
       "a campaign ad      0.083333  \n",
       "a television ad    0.065041  "
      ]
     },
     "execution_count": 14,
     "metadata": {},
     "output_type": "execute_result"
    }
   ],
   "source": [
    "context_distribution = get_truth_distribution(liar_df, \"Context\", 100) \n",
    "context_distribution"
   ]
  },
  {
   "cell_type": "code",
   "execution_count": 15,
   "metadata": {},
   "outputs": [
    {
     "data": {
      "text/plain": [
       "<matplotlib.axes._subplots.AxesSubplot at 0x11616f358>"
      ]
     },
     "execution_count": 15,
     "metadata": {},
     "output_type": "execute_result"
    },
    {
     "data": {
      "image/png": "[encoded data removed]",
      "text/plain": [
       "<Figure size 432x288 with 1 Axes>"
      ]
     },
     "metadata": {
      "needs_background": "light"
     },
     "output_type": "display_data"
    }
   ],
   "source": [
    "context_distribution.plot(kind='bar', stacked=True, ec='black')"
   ]
  },
  {
   "cell_type": "markdown",
   "metadata": {},
   "source": [
    "### Are statements in debates more likely to be lies, compared to other speeches?"
   ]
  },
  {
   "cell_type": "code",
   "execution_count": 16,
   "metadata": {},
   "outputs": [
    {
     "name": "stdout",
     "output_type": "stream",
     "text": [
      "           Percent                                                   \n",
      "Label        false pants-fire barely-true half-true mostly-true  true\n",
      "Context                                                              \n",
      "a debate.  0.28125    0.15625     0.03125     0.125     0.15625  0.25\n"
     ]
    },
    {
     "data": {
      "text/plain": [
       "<matplotlib.axes._subplots.AxesSubplot at 0x116814d30>"
      ]
     },
     "execution_count": 16,
     "metadata": {},
     "output_type": "execute_result"
    },
    {
     "data": {
      "image/png": "[encoded data removed]",
      "text/plain": [
       "<Figure size 432x288 with 1 Axes>"
      ]
     },
     "metadata": {
      "needs_background": "light"
     },
     "output_type": "display_data"
    }
   ],
   "source": [
    "debate = liar_df[liar_df[\"Context\"] == \"a debate.\"]\n",
    "debate = get_truth_distribution(debate, \"Context\", 10)\n",
    "print(debate)\n",
    "debate.plot(kind='bar')"
   ]
  },
  {
   "cell_type": "markdown",
   "metadata": {},
   "source": [
    "It seems that the debate are quite polarised in truth distribution. Debater either say completly true or completly false information. The goal in a mediatised debate is not to find the best solution to a problem but to win the debate by getting the more agreement from the audiance. Very polarised idea are then used and false information are intentionaly used because their is no possible immediate fact checking."
   ]
  },
  {
   "cell_type": "markdown",
   "metadata": {},
   "source": [
    "### What are the preferred format for witch topic?"
   ]
  },
  {
   "cell_type": "code",
   "execution_count": 17,
   "metadata": {},
   "outputs": [
    {
     "data": {
      "text/html": [
       "<div>\n",
       "<style scoped>\n",
       "    .dataframe tbody tr th:only-of-type {\n",
       "        vertical-align: middle;\n",
       "    }\n",
       "\n",
       "    .dataframe tbody tr th {\n",
       "        vertical-align: top;\n",
       "    }\n",
       "\n",
       "    .dataframe thead tr th {\n",
       "        text-align: left;\n",
       "    }\n",
       "\n",
       "    .dataframe thead tr:last-of-type th {\n",
       "        text-align: right;\n",
       "    }\n",
       "</style>\n",
       "<table border=\"1\" class=\"dataframe\">\n",
       "  <thead>\n",
       "    <tr>\n",
       "      <th></th>\n",
       "      <th colspan=\"21\" halign=\"left\">Percent</th>\n",
       "    </tr>\n",
       "    <tr>\n",
       "      <th>Subject</th>\n",
       "      <th>climate-change,environment</th>\n",
       "      <th>health-care</th>\n",
       "      <th>state-finances</th>\n",
       "      <th>education</th>\n",
       "      <th>guns</th>\n",
       "      <th>crime</th>\n",
       "      <th>nuclear</th>\n",
       "      <th>immigration</th>\n",
       "      <th>history</th>\n",
       "      <th>foreign-policy</th>\n",
       "      <th>...</th>\n",
       "      <th>health-care,states,transparency</th>\n",
       "      <th>income,jobs,state-budget,state-finances,taxes</th>\n",
       "      <th>job-accomplishments,jobs,workers</th>\n",
       "      <th>jobs,occupy-wall-street,workers</th>\n",
       "      <th>jobs,state-finances,tourism,transportation</th>\n",
       "      <th>labor,legal-issues,state-budget,unions,workers</th>\n",
       "      <th>labor,public-safety</th>\n",
       "      <th>legal-issues,marijuana,polls,states</th>\n",
       "      <th>state-budget,stimulus</th>\n",
       "      <th>state-budget,transparency</th>\n",
       "    </tr>\n",
       "    <tr>\n",
       "      <th>Context</th>\n",
       "      <th></th>\n",
       "      <th></th>\n",
       "      <th></th>\n",
       "      <th></th>\n",
       "      <th></th>\n",
       "      <th></th>\n",
       "      <th></th>\n",
       "      <th></th>\n",
       "      <th></th>\n",
       "      <th></th>\n",
       "      <th></th>\n",
       "      <th></th>\n",
       "      <th></th>\n",
       "      <th></th>\n",
       "      <th></th>\n",
       "      <th></th>\n",
       "      <th></th>\n",
       "      <th></th>\n",
       "      <th></th>\n",
       "      <th></th>\n",
       "      <th></th>\n",
       "    </tr>\n",
       "  </thead>\n",
       "  <tbody>\n",
       "    <tr>\n",
       "      <th>a TV ad</th>\n",
       "      <td>0.005556</td>\n",
       "      <td>0.033333</td>\n",
       "      <td>0.000000</td>\n",
       "      <td>0.027778</td>\n",
       "      <td>0.005556</td>\n",
       "      <td>0.005556</td>\n",
       "      <td>0.005556</td>\n",
       "      <td>0.022222</td>\n",
       "      <td>0.0</td>\n",
       "      <td>0.022222</td>\n",
       "      <td>...</td>\n",
       "      <td>0.0</td>\n",
       "      <td>0.0</td>\n",
       "      <td>0.0</td>\n",
       "      <td>0.0</td>\n",
       "      <td>0.0</td>\n",
       "      <td>0.0</td>\n",
       "      <td>0.0</td>\n",
       "      <td>0.0</td>\n",
       "      <td>0.0</td>\n",
       "      <td>0.0</td>\n",
       "    </tr>\n",
       "    <tr>\n",
       "      <th>a campaign ad</th>\n",
       "      <td>0.007576</td>\n",
       "      <td>0.015152</td>\n",
       "      <td>0.000000</td>\n",
       "      <td>0.000000</td>\n",
       "      <td>0.000000</td>\n",
       "      <td>0.000000</td>\n",
       "      <td>0.007576</td>\n",
       "      <td>0.000000</td>\n",
       "      <td>0.0</td>\n",
       "      <td>0.000000</td>\n",
       "      <td>...</td>\n",
       "      <td>0.0</td>\n",
       "      <td>0.0</td>\n",
       "      <td>0.0</td>\n",
       "      <td>0.0</td>\n",
       "      <td>0.0</td>\n",
       "      <td>0.0</td>\n",
       "      <td>0.0</td>\n",
       "      <td>0.0</td>\n",
       "      <td>0.0</td>\n",
       "      <td>0.0</td>\n",
       "    </tr>\n",
       "    <tr>\n",
       "      <th>a news release</th>\n",
       "      <td>0.000000</td>\n",
       "      <td>0.024896</td>\n",
       "      <td>0.004149</td>\n",
       "      <td>0.020747</td>\n",
       "      <td>0.008299</td>\n",
       "      <td>0.004149</td>\n",
       "      <td>0.000000</td>\n",
       "      <td>0.012448</td>\n",
       "      <td>0.0</td>\n",
       "      <td>0.000000</td>\n",
       "      <td>...</td>\n",
       "      <td>0.0</td>\n",
       "      <td>0.0</td>\n",
       "      <td>0.0</td>\n",
       "      <td>0.0</td>\n",
       "      <td>0.0</td>\n",
       "      <td>0.0</td>\n",
       "      <td>0.0</td>\n",
       "      <td>0.0</td>\n",
       "      <td>0.0</td>\n",
       "      <td>0.0</td>\n",
       "    </tr>\n",
       "  </tbody>\n",
       "</table>\n",
       "<p>3 rows × 956 columns</p>\n",
       "</div>"
      ],
      "text/plain": [
       "                                  Percent                             \\\n",
       "Subject        climate-change,environment health-care state-finances   \n",
       "Context                                                                \n",
       "a TV ad                          0.005556    0.033333       0.000000   \n",
       "a campaign ad                    0.007576    0.015152       0.000000   \n",
       "a news release                   0.000000    0.024896       0.004149   \n",
       "\n",
       "                                                                            \\\n",
       "Subject        education      guns     crime   nuclear immigration history   \n",
       "Context                                                                      \n",
       "a TV ad         0.027778  0.005556  0.005556  0.005556    0.022222     0.0   \n",
       "a campaign ad   0.000000  0.000000  0.000000  0.007576    0.000000     0.0   \n",
       "a news release  0.020747  0.008299  0.004149  0.000000    0.012448     0.0   \n",
       "\n",
       "                                         ...             \\\n",
       "Subject        foreign-policy            ...              \n",
       "Context                                  ...              \n",
       "a TV ad              0.022222            ...              \n",
       "a campaign ad        0.000000            ...              \n",
       "a news release       0.000000            ...              \n",
       "\n",
       "                                                \\\n",
       "Subject        health-care,states,transparency   \n",
       "Context                                          \n",
       "a TV ad                                    0.0   \n",
       "a campaign ad                              0.0   \n",
       "a news release                             0.0   \n",
       "\n",
       "                                                              \\\n",
       "Subject        income,jobs,state-budget,state-finances,taxes   \n",
       "Context                                                        \n",
       "a TV ad                                                  0.0   \n",
       "a campaign ad                                            0.0   \n",
       "a news release                                           0.0   \n",
       "\n",
       "                                                 \\\n",
       "Subject        job-accomplishments,jobs,workers   \n",
       "Context                                           \n",
       "a TV ad                                     0.0   \n",
       "a campaign ad                               0.0   \n",
       "a news release                              0.0   \n",
       "\n",
       "                                                \\\n",
       "Subject        jobs,occupy-wall-street,workers   \n",
       "Context                                          \n",
       "a TV ad                                    0.0   \n",
       "a campaign ad                              0.0   \n",
       "a news release                             0.0   \n",
       "\n",
       "                                                           \\\n",
       "Subject        jobs,state-finances,tourism,transportation   \n",
       "Context                                                     \n",
       "a TV ad                                               0.0   \n",
       "a campaign ad                                         0.0   \n",
       "a news release                                        0.0   \n",
       "\n",
       "                                                               \\\n",
       "Subject        labor,legal-issues,state-budget,unions,workers   \n",
       "Context                                                         \n",
       "a TV ad                                                   0.0   \n",
       "a campaign ad                                             0.0   \n",
       "a news release                                            0.0   \n",
       "\n",
       "                                                                        \\\n",
       "Subject        labor,public-safety legal-issues,marijuana,polls,states   \n",
       "Context                                                                  \n",
       "a TV ad                        0.0                                 0.0   \n",
       "a campaign ad                  0.0                                 0.0   \n",
       "a news release                 0.0                                 0.0   \n",
       "\n",
       "                                                                \n",
       "Subject        state-budget,stimulus state-budget,transparency  \n",
       "Context                                                         \n",
       "a TV ad                          0.0                       0.0  \n",
       "a campaign ad                    0.0                       0.0  \n",
       "a news release                   0.0                       0.0  \n",
       "\n",
       "[3 rows x 956 columns]"
      ]
     },
     "execution_count": 17,
     "metadata": {},
     "output_type": "execute_result"
    }
   ],
   "source": [
    "df = liar_df[[\"Context\", \"ID\", \"Subject\"]]\n",
    "df.columns = [\"Context\", \"Percent\", \"Subject\"]\n",
    "col_subject = df.groupby([\"Context\", \"Subject\"]).count()[[\"Percent\"]]\n",
    "col_subject = col_subject.unstack('Subject')\n",
    "col_subject = col_subject.fillna(0)\n",
    "#col_subject = col_subject[[('Percent', 'false'), ('Percent', 'pants-fire'), ('Percent', 'barely-true'),('Percent', 'half-true'),('Percent', 'mostly-true'),('Percent', 'true')]]\n",
    "col_subject = col_subject[col_subject.sum(axis = 1) >= 100]\n",
    "col_subject = col_subject.div(col_subject.sum(axis = 1),axis = 'index')\n",
    "col_subject = col_subject.loc[:, (col_subject != 0).any(axis=0)]\n",
    "col_subject.head(3)"
   ]
  },
  {
   "cell_type": "markdown",
   "metadata": {},
   "source": [
    "Well ... I don't really know what to say on that"
   ]
  },
  {
   "cell_type": "markdown",
   "metadata": {},
   "source": [
    "### Compare distribution of fake news between traditional press, speeches and social media"
   ]
  },
  {
   "cell_type": "code",
   "execution_count": 18,
   "metadata": {},
   "outputs": [
    {
     "data": {
      "text/html": [
       "<div>\n",
       "<style scoped>\n",
       "    .dataframe tbody tr th:only-of-type {\n",
       "        vertical-align: middle;\n",
       "    }\n",
       "\n",
       "    .dataframe tbody tr th {\n",
       "        vertical-align: top;\n",
       "    }\n",
       "\n",
       "    .dataframe thead tr th {\n",
       "        text-align: left;\n",
       "    }\n",
       "\n",
       "    .dataframe thead tr:last-of-type th {\n",
       "        text-align: right;\n",
       "    }\n",
       "</style>\n",
       "<table border=\"1\" class=\"dataframe\">\n",
       "  <thead>\n",
       "    <tr>\n",
       "      <th></th>\n",
       "      <th colspan=\"6\" halign=\"left\">Percent</th>\n",
       "    </tr>\n",
       "    <tr>\n",
       "      <th>Label</th>\n",
       "      <th>false</th>\n",
       "      <th>pants-fire</th>\n",
       "      <th>barely-true</th>\n",
       "      <th>half-true</th>\n",
       "      <th>mostly-true</th>\n",
       "      <th>true</th>\n",
       "    </tr>\n",
       "    <tr>\n",
       "      <th>Context</th>\n",
       "      <th></th>\n",
       "      <th></th>\n",
       "      <th></th>\n",
       "      <th></th>\n",
       "      <th></th>\n",
       "      <th></th>\n",
       "    </tr>\n",
       "  </thead>\n",
       "  <tbody>\n",
       "    <tr>\n",
       "      <th>an interview</th>\n",
       "      <td>58.0</td>\n",
       "      <td>13.0</td>\n",
       "      <td>30.0</td>\n",
       "      <td>47.0</td>\n",
       "      <td>47.0</td>\n",
       "      <td>34.0</td>\n",
       "    </tr>\n",
       "    <tr>\n",
       "      <th>a news release</th>\n",
       "      <td>44.0</td>\n",
       "      <td>22.0</td>\n",
       "      <td>45.0</td>\n",
       "      <td>46.0</td>\n",
       "      <td>41.0</td>\n",
       "      <td>43.0</td>\n",
       "    </tr>\n",
       "    <tr>\n",
       "      <th>a press release</th>\n",
       "      <td>41.0</td>\n",
       "      <td>13.0</td>\n",
       "      <td>34.0</td>\n",
       "      <td>46.0</td>\n",
       "      <td>45.0</td>\n",
       "      <td>44.0</td>\n",
       "    </tr>\n",
       "    <tr>\n",
       "      <th>a speech</th>\n",
       "      <td>34.0</td>\n",
       "      <td>8.0</td>\n",
       "      <td>24.0</td>\n",
       "      <td>54.0</td>\n",
       "      <td>50.0</td>\n",
       "      <td>44.0</td>\n",
       "    </tr>\n",
       "    <tr>\n",
       "      <th>a tweet</th>\n",
       "      <td>28.0</td>\n",
       "      <td>17.0</td>\n",
       "      <td>23.0</td>\n",
       "      <td>23.0</td>\n",
       "      <td>38.0</td>\n",
       "      <td>27.0</td>\n",
       "    </tr>\n",
       "  </tbody>\n",
       "</table>\n",
       "</div>"
      ],
      "text/plain": [
       "                Percent                                                   \n",
       "Label             false pants-fire barely-true half-true mostly-true  true\n",
       "Context                                                                   \n",
       "an interview       58.0       13.0        30.0      47.0        47.0  34.0\n",
       "a news release     44.0       22.0        45.0      46.0        41.0  43.0\n",
       "a press release    41.0       13.0        34.0      46.0        45.0  44.0\n",
       "a speech           34.0        8.0        24.0      54.0        50.0  44.0\n",
       "a tweet            28.0       17.0        23.0      23.0        38.0  27.0"
      ]
     },
     "execution_count": 18,
     "metadata": {},
     "output_type": "execute_result"
    }
   ],
   "source": [
    "context_distribution = get_truth_distribution(liar_df, \"Context\", 10, normalize = False) \n",
    "context_distribution.head()"
   ]
  },
  {
   "cell_type": "markdown",
   "metadata": {},
   "source": [
    "* Traditional press"
   ]
  },
  {
   "cell_type": "code",
   "execution_count": 19,
   "metadata": {},
   "outputs": [
    {
     "name": "stderr",
     "output_type": "stream",
     "text": [
      "/Users/Moi/anaconda3/envs/ada/lib/python3.6/site-packages/ipykernel/__main__.py:2: UserWarning: This pattern has match groups. To actually get the groups, use str.extract.\n",
      "  from ipykernel import kernelapp as app\n"
     ]
    },
    {
     "data": {
      "text/html": [
       "<div>\n",
       "<style scoped>\n",
       "    .dataframe tbody tr th:only-of-type {\n",
       "        vertical-align: middle;\n",
       "    }\n",
       "\n",
       "    .dataframe tbody tr th {\n",
       "        vertical-align: top;\n",
       "    }\n",
       "\n",
       "    .dataframe thead tr th {\n",
       "        text-align: left;\n",
       "    }\n",
       "\n",
       "    .dataframe thead tr:last-of-type th {\n",
       "        text-align: right;\n",
       "    }\n",
       "</style>\n",
       "<table border=\"1\" class=\"dataframe\">\n",
       "  <thead>\n",
       "    <tr>\n",
       "      <th></th>\n",
       "      <th colspan=\"6\" halign=\"left\">Percent</th>\n",
       "    </tr>\n",
       "    <tr>\n",
       "      <th>Label</th>\n",
       "      <th>false</th>\n",
       "      <th>pants-fire</th>\n",
       "      <th>barely-true</th>\n",
       "      <th>half-true</th>\n",
       "      <th>mostly-true</th>\n",
       "      <th>true</th>\n",
       "    </tr>\n",
       "    <tr>\n",
       "      <th>Context</th>\n",
       "      <th></th>\n",
       "      <th></th>\n",
       "      <th></th>\n",
       "      <th></th>\n",
       "      <th></th>\n",
       "      <th></th>\n",
       "    </tr>\n",
       "  </thead>\n",
       "  <tbody>\n",
       "    <tr>\n",
       "      <th>an interview</th>\n",
       "      <td>58.0</td>\n",
       "      <td>13.0</td>\n",
       "      <td>30.0</td>\n",
       "      <td>47.0</td>\n",
       "      <td>47.0</td>\n",
       "      <td>34.0</td>\n",
       "    </tr>\n",
       "    <tr>\n",
       "      <th>a press release</th>\n",
       "      <td>41.0</td>\n",
       "      <td>13.0</td>\n",
       "      <td>34.0</td>\n",
       "      <td>46.0</td>\n",
       "      <td>45.0</td>\n",
       "      <td>44.0</td>\n",
       "    </tr>\n",
       "    <tr>\n",
       "      <th>a TV ad</th>\n",
       "      <td>27.0</td>\n",
       "      <td>13.0</td>\n",
       "      <td>39.0</td>\n",
       "      <td>46.0</td>\n",
       "      <td>36.0</td>\n",
       "      <td>19.0</td>\n",
       "    </tr>\n",
       "    <tr>\n",
       "      <th>a radio interview</th>\n",
       "      <td>24.0</td>\n",
       "      <td>9.0</td>\n",
       "      <td>19.0</td>\n",
       "      <td>22.0</td>\n",
       "      <td>14.0</td>\n",
       "      <td>18.0</td>\n",
       "    </tr>\n",
       "    <tr>\n",
       "      <th>a television interview</th>\n",
       "      <td>15.0</td>\n",
       "      <td>2.0</td>\n",
       "      <td>10.0</td>\n",
       "      <td>15.0</td>\n",
       "      <td>12.0</td>\n",
       "      <td>14.0</td>\n",
       "    </tr>\n",
       "  </tbody>\n",
       "</table>\n",
       "</div>"
      ],
      "text/plain": [
       "                       Percent                                               \\\n",
       "Label                    false pants-fire barely-true half-true mostly-true   \n",
       "Context                                                                       \n",
       "an interview              58.0       13.0        30.0      47.0        47.0   \n",
       "a press release           41.0       13.0        34.0      46.0        45.0   \n",
       "a TV ad                   27.0       13.0        39.0      46.0        36.0   \n",
       "a radio interview         24.0        9.0        19.0      22.0        14.0   \n",
       "a television interview    15.0        2.0        10.0      15.0        12.0   \n",
       "\n",
       "                              \n",
       "Label                   true  \n",
       "Context                       \n",
       "an interview            34.0  \n",
       "a press release         44.0  \n",
       "a TV ad                 19.0  \n",
       "a radio interview       18.0  \n",
       "a television interview  14.0  "
      ]
     },
     "execution_count": 19,
     "metadata": {},
     "output_type": "execute_result"
    }
   ],
   "source": [
    "traditional_press_regex = re.compile(r'\\b(ABC|TV|CNN|MSNBC|radio|interview|newspaper|press)[s]*\\b' ,re.I)\n",
    "traditional_press_sets = context_distribution[context_distribution.index.str.contains(traditional_press_regex, regex=True) == True]\n",
    "traditional_press_sets.head()"
   ]
  },
  {
   "cell_type": "code",
   "execution_count": 41,
   "metadata": {},
   "outputs": [
    {
     "data": {
      "text/plain": [
       "         Label      \n",
       "Percent  false          344.0\n",
       "         pants-fire      97.0\n",
       "         barely-true    278.0\n",
       "         half-true      366.0\n",
       "         mostly-true    334.0\n",
       "         true           281.0\n",
       "dtype: float64"
      ]
     },
     "execution_count": 41,
     "metadata": {},
     "output_type": "execute_result"
    }
   ],
   "source": [
    "traditional_press_sets.sum()"
   ]
  },
  {
   "cell_type": "markdown",
   "metadata": {},
   "source": [
    "* Social media"
   ]
  },
  {
   "cell_type": "code",
   "execution_count": 20,
   "metadata": {},
   "outputs": [
    {
     "name": "stderr",
     "output_type": "stream",
     "text": [
      "/Users/Moi/anaconda3/envs/ada/lib/python3.6/site-packages/ipykernel/__main__.py:2: UserWarning: This pattern has match groups. To actually get the groups, use str.extract.\n",
      "  from ipykernel import kernelapp as app\n"
     ]
    },
    {
     "data": {
      "text/html": [
       "<div>\n",
       "<style scoped>\n",
       "    .dataframe tbody tr th:only-of-type {\n",
       "        vertical-align: middle;\n",
       "    }\n",
       "\n",
       "    .dataframe tbody tr th {\n",
       "        vertical-align: top;\n",
       "    }\n",
       "\n",
       "    .dataframe thead tr th {\n",
       "        text-align: left;\n",
       "    }\n",
       "\n",
       "    .dataframe thead tr:last-of-type th {\n",
       "        text-align: right;\n",
       "    }\n",
       "</style>\n",
       "<table border=\"1\" class=\"dataframe\">\n",
       "  <thead>\n",
       "    <tr>\n",
       "      <th></th>\n",
       "      <th colspan=\"6\" halign=\"left\">Percent</th>\n",
       "    </tr>\n",
       "    <tr>\n",
       "      <th>Label</th>\n",
       "      <th>false</th>\n",
       "      <th>pants-fire</th>\n",
       "      <th>barely-true</th>\n",
       "      <th>half-true</th>\n",
       "      <th>mostly-true</th>\n",
       "      <th>true</th>\n",
       "    </tr>\n",
       "    <tr>\n",
       "      <th>Context</th>\n",
       "      <th></th>\n",
       "      <th></th>\n",
       "      <th></th>\n",
       "      <th></th>\n",
       "      <th></th>\n",
       "      <th></th>\n",
       "    </tr>\n",
       "  </thead>\n",
       "  <tbody>\n",
       "    <tr>\n",
       "      <th>a tweet</th>\n",
       "      <td>28.0</td>\n",
       "      <td>17.0</td>\n",
       "      <td>23.0</td>\n",
       "      <td>23.0</td>\n",
       "      <td>38.0</td>\n",
       "      <td>27.0</td>\n",
       "    </tr>\n",
       "    <tr>\n",
       "      <th>a Facebook post</th>\n",
       "      <td>13.0</td>\n",
       "      <td>13.0</td>\n",
       "      <td>17.0</td>\n",
       "      <td>14.0</td>\n",
       "      <td>11.0</td>\n",
       "      <td>6.0</td>\n",
       "    </tr>\n",
       "    <tr>\n",
       "      <th>a chain email</th>\n",
       "      <td>9.0</td>\n",
       "      <td>16.0</td>\n",
       "      <td>1.0</td>\n",
       "      <td>0.0</td>\n",
       "      <td>0.0</td>\n",
       "      <td>0.0</td>\n",
       "    </tr>\n",
       "    <tr>\n",
       "      <th>a blog post</th>\n",
       "      <td>8.0</td>\n",
       "      <td>6.0</td>\n",
       "      <td>4.0</td>\n",
       "      <td>3.0</td>\n",
       "      <td>3.0</td>\n",
       "      <td>4.0</td>\n",
       "    </tr>\n",
       "    <tr>\n",
       "      <th>an email</th>\n",
       "      <td>7.0</td>\n",
       "      <td>5.0</td>\n",
       "      <td>3.0</td>\n",
       "      <td>5.0</td>\n",
       "      <td>2.0</td>\n",
       "      <td>2.0</td>\n",
       "    </tr>\n",
       "  </tbody>\n",
       "</table>\n",
       "</div>"
      ],
      "text/plain": [
       "                Percent                                                   \n",
       "Label             false pants-fire barely-true half-true mostly-true  true\n",
       "Context                                                                   \n",
       "a tweet            28.0       17.0        23.0      23.0        38.0  27.0\n",
       "a Facebook post    13.0       13.0        17.0      14.0        11.0   6.0\n",
       "a chain email       9.0       16.0         1.0       0.0         0.0   0.0\n",
       "a blog post         8.0        6.0         4.0       3.0         3.0   4.0\n",
       "an email            7.0        5.0         3.0       5.0         2.0   2.0"
      ]
     },
     "execution_count": 20,
     "metadata": {},
     "output_type": "execute_result"
    }
   ],
   "source": [
    "social_media_regex = re.compile(r'\\b(Facebook|blog|twitter|my space|newsletter|video|email|tweet|social media|YouTube)[s]*\\b' ,re.I)\n",
    "social_media_sets = context_distribution[context_distribution.index.str.contains(social_media_regex, regex=True) == True]\n",
    "social_media_sets.head()"
   ]
  },
  {
   "cell_type": "code",
   "execution_count": 50,
   "metadata": {},
   "outputs": [
    {
     "data": {
      "text/plain": [
       "         Label      \n",
       "Percent  false          111.0\n",
       "         pants-fire      74.0\n",
       "         barely-true     87.0\n",
       "         half-true       94.0\n",
       "         mostly-true     88.0\n",
       "         true            71.0\n",
       "dtype: float64"
      ]
     },
     "execution_count": 50,
     "metadata": {},
     "output_type": "execute_result"
    }
   ],
   "source": [
    "social_media_sum =social_media_sets.sum()\n",
    "social_media_sum"
   ]
  },
  {
   "cell_type": "markdown",
   "metadata": {},
   "source": [
    "* Speech"
   ]
  },
  {
   "cell_type": "code",
   "execution_count": 22,
   "metadata": {},
   "outputs": [
    {
     "name": "stderr",
     "output_type": "stream",
     "text": [
      "/Users/Moi/anaconda3/envs/ada/lib/python3.6/site-packages/ipykernel/__main__.py:2: UserWarning: This pattern has match groups. To actually get the groups, use str.extract.\n",
      "  from ipykernel import kernelapp as app\n"
     ]
    },
    {
     "data": {
      "text/html": [
       "<div>\n",
       "<style scoped>\n",
       "    .dataframe tbody tr th:only-of-type {\n",
       "        vertical-align: middle;\n",
       "    }\n",
       "\n",
       "    .dataframe tbody tr th {\n",
       "        vertical-align: top;\n",
       "    }\n",
       "\n",
       "    .dataframe thead tr th {\n",
       "        text-align: left;\n",
       "    }\n",
       "\n",
       "    .dataframe thead tr:last-of-type th {\n",
       "        text-align: right;\n",
       "    }\n",
       "</style>\n",
       "<table border=\"1\" class=\"dataframe\">\n",
       "  <thead>\n",
       "    <tr>\n",
       "      <th></th>\n",
       "      <th colspan=\"6\" halign=\"left\">Percent</th>\n",
       "    </tr>\n",
       "    <tr>\n",
       "      <th>Label</th>\n",
       "      <th>false</th>\n",
       "      <th>pants-fire</th>\n",
       "      <th>barely-true</th>\n",
       "      <th>half-true</th>\n",
       "      <th>mostly-true</th>\n",
       "      <th>true</th>\n",
       "    </tr>\n",
       "    <tr>\n",
       "      <th>Context</th>\n",
       "      <th></th>\n",
       "      <th></th>\n",
       "      <th></th>\n",
       "      <th></th>\n",
       "      <th></th>\n",
       "      <th></th>\n",
       "    </tr>\n",
       "  </thead>\n",
       "  <tbody>\n",
       "    <tr>\n",
       "      <th>a speech</th>\n",
       "      <td>34.0</td>\n",
       "      <td>8.0</td>\n",
       "      <td>24.0</td>\n",
       "      <td>54.0</td>\n",
       "      <td>50.0</td>\n",
       "      <td>44.0</td>\n",
       "    </tr>\n",
       "    <tr>\n",
       "      <th>a speech.</th>\n",
       "      <td>16.0</td>\n",
       "      <td>4.0</td>\n",
       "      <td>13.0</td>\n",
       "      <td>5.0</td>\n",
       "      <td>7.0</td>\n",
       "      <td>12.0</td>\n",
       "    </tr>\n",
       "    <tr>\n",
       "      <th>a speech on the House floor</th>\n",
       "      <td>7.0</td>\n",
       "      <td>1.0</td>\n",
       "      <td>0.0</td>\n",
       "      <td>7.0</td>\n",
       "      <td>5.0</td>\n",
       "      <td>1.0</td>\n",
       "    </tr>\n",
       "    <tr>\n",
       "      <th>a campaign speech</th>\n",
       "      <td>6.0</td>\n",
       "      <td>1.0</td>\n",
       "      <td>3.0</td>\n",
       "      <td>7.0</td>\n",
       "      <td>6.0</td>\n",
       "      <td>2.0</td>\n",
       "    </tr>\n",
       "    <tr>\n",
       "      <th>a Senate floor speech</th>\n",
       "      <td>6.0</td>\n",
       "      <td>2.0</td>\n",
       "      <td>2.0</td>\n",
       "      <td>1.0</td>\n",
       "      <td>4.0</td>\n",
       "      <td>4.0</td>\n",
       "    </tr>\n",
       "  </tbody>\n",
       "</table>\n",
       "</div>"
      ],
      "text/plain": [
       "                            Percent                                   \\\n",
       "Label                         false pants-fire barely-true half-true   \n",
       "Context                                                                \n",
       "a speech                       34.0        8.0        24.0      54.0   \n",
       "a speech.                      16.0        4.0        13.0       5.0   \n",
       "a speech on the House floor     7.0        1.0         0.0       7.0   \n",
       "a campaign speech               6.0        1.0         3.0       7.0   \n",
       "a Senate floor speech           6.0        2.0         2.0       1.0   \n",
       "\n",
       "                                               \n",
       "Label                       mostly-true  true  \n",
       "Context                                        \n",
       "a speech                           50.0  44.0  \n",
       "a speech.                           7.0  12.0  \n",
       "a speech on the House floor         5.0   1.0  \n",
       "a campaign speech                   6.0   2.0  \n",
       "a Senate floor speech               4.0   4.0  "
      ]
     },
     "execution_count": 22,
     "metadata": {},
     "output_type": "execute_result"
    }
   ],
   "source": [
    "speech_regex = re.compile(r'\\b(speech)[s]*\\b' ,re.I)\n",
    "speech_sets = context_distribution[context_distribution.index.str.contains(speech_regex, regex=True) == True]\n",
    "speech_sets.head()"
   ]
  },
  {
   "cell_type": "code",
   "execution_count": 42,
   "metadata": {},
   "outputs": [
    {
     "data": {
      "text/plain": [
       "         Label      \n",
       "Percent  false          80.0\n",
       "         pants-fire     18.0\n",
       "         barely-true    54.0\n",
       "         half-true      90.0\n",
       "         mostly-true    91.0\n",
       "         true           78.0\n",
       "dtype: float64"
      ]
     },
     "execution_count": 42,
     "metadata": {},
     "output_type": "execute_result"
    }
   ],
   "source": [
    "speech_sets.sum()"
   ]
  },
  {
   "cell_type": "markdown",
   "metadata": {},
   "source": [
    "---\n",
    "## What are the most prominent professions among the liars?"
   ]
  },
  {
   "cell_type": "markdown",
   "metadata": {},
   "source": [
    "### Professions truth distribution ?"
   ]
  },
  {
   "cell_type": "code",
   "execution_count": 23,
   "metadata": {},
   "outputs": [
    {
     "data": {
      "text/html": [
       "<div>\n",
       "<style scoped>\n",
       "    .dataframe tbody tr th:only-of-type {\n",
       "        vertical-align: middle;\n",
       "    }\n",
       "\n",
       "    .dataframe tbody tr th {\n",
       "        vertical-align: top;\n",
       "    }\n",
       "\n",
       "    .dataframe thead tr th {\n",
       "        text-align: left;\n",
       "    }\n",
       "\n",
       "    .dataframe thead tr:last-of-type th {\n",
       "        text-align: right;\n",
       "    }\n",
       "</style>\n",
       "<table border=\"1\" class=\"dataframe\">\n",
       "  <thead>\n",
       "    <tr>\n",
       "      <th></th>\n",
       "      <th colspan=\"6\" halign=\"left\">Percent</th>\n",
       "    </tr>\n",
       "    <tr>\n",
       "      <th>Label</th>\n",
       "      <th>false</th>\n",
       "      <th>pants-fire</th>\n",
       "      <th>barely-true</th>\n",
       "      <th>half-true</th>\n",
       "      <th>mostly-true</th>\n",
       "      <th>true</th>\n",
       "    </tr>\n",
       "    <tr>\n",
       "      <th>Job title</th>\n",
       "      <th></th>\n",
       "      <th></th>\n",
       "      <th></th>\n",
       "      <th></th>\n",
       "      <th></th>\n",
       "      <th></th>\n",
       "    </tr>\n",
       "  </thead>\n",
       "  <tbody>\n",
       "    <tr>\n",
       "      <th>President-Elect</th>\n",
       "      <td>0.369963</td>\n",
       "      <td>0.190476</td>\n",
       "      <td>0.175824</td>\n",
       "      <td>0.142857</td>\n",
       "      <td>0.098901</td>\n",
       "      <td>0.021978</td>\n",
       "    </tr>\n",
       "    <tr>\n",
       "      <th>Congresswoman</th>\n",
       "      <td>0.360000</td>\n",
       "      <td>0.220000</td>\n",
       "      <td>0.160000</td>\n",
       "      <td>0.120000</td>\n",
       "      <td>0.060000</td>\n",
       "      <td>0.080000</td>\n",
       "    </tr>\n",
       "    <tr>\n",
       "      <th>Attorney General</th>\n",
       "      <td>0.303030</td>\n",
       "      <td>0.030303</td>\n",
       "      <td>0.060606</td>\n",
       "      <td>0.272727</td>\n",
       "      <td>0.212121</td>\n",
       "      <td>0.121212</td>\n",
       "    </tr>\n",
       "    <tr>\n",
       "      <th>Congressman</th>\n",
       "      <td>0.300000</td>\n",
       "      <td>0.025000</td>\n",
       "      <td>0.125000</td>\n",
       "      <td>0.212500</td>\n",
       "      <td>0.175000</td>\n",
       "      <td>0.162500</td>\n",
       "    </tr>\n",
       "    <tr>\n",
       "      <th>Speaker of the House of Representatives</th>\n",
       "      <td>0.280000</td>\n",
       "      <td>0.040000</td>\n",
       "      <td>0.180000</td>\n",
       "      <td>0.160000</td>\n",
       "      <td>0.080000</td>\n",
       "      <td>0.260000</td>\n",
       "    </tr>\n",
       "  </tbody>\n",
       "</table>\n",
       "</div>"
      ],
      "text/plain": [
       "                                          Percent                         \\\n",
       "Label                                       false pants-fire barely-true   \n",
       "Job title                                                                  \n",
       "President-Elect                          0.369963   0.190476    0.175824   \n",
       "Congresswoman                            0.360000   0.220000    0.160000   \n",
       "Attorney General                         0.303030   0.030303    0.060606   \n",
       "Congressman                              0.300000   0.025000    0.125000   \n",
       "Speaker of the House of Representatives  0.280000   0.040000    0.180000   \n",
       "\n",
       "                                                                         \n",
       "Label                                   half-true mostly-true      true  \n",
       "Job title                                                                \n",
       "President-Elect                          0.142857    0.098901  0.021978  \n",
       "Congresswoman                            0.120000    0.060000  0.080000  \n",
       "Attorney General                         0.272727    0.212121  0.121212  \n",
       "Congressman                              0.212500    0.175000  0.162500  \n",
       "Speaker of the House of Representatives  0.160000    0.080000  0.260000  "
      ]
     },
     "execution_count": 23,
     "metadata": {},
     "output_type": "execute_result"
    }
   ],
   "source": [
    "profession_distribution = get_truth_distribution(liar_df, \"Job title\", 30) \n",
    "profession_distribution.head()"
   ]
  },
  {
   "cell_type": "markdown",
   "metadata": {},
   "source": [
    "### What are the most prominent professions in the dataset ?"
   ]
  },
  {
   "cell_type": "code",
   "execution_count": 24,
   "metadata": {},
   "outputs": [
    {
     "data": {
      "text/html": [
       "<div>\n",
       "<style scoped>\n",
       "    .dataframe tbody tr th:only-of-type {\n",
       "        vertical-align: middle;\n",
       "    }\n",
       "\n",
       "    .dataframe tbody tr th {\n",
       "        vertical-align: top;\n",
       "    }\n",
       "\n",
       "    .dataframe thead th {\n",
       "        text-align: right;\n",
       "    }\n",
       "</style>\n",
       "<table border=\"1\" class=\"dataframe\">\n",
       "  <thead>\n",
       "    <tr style=\"text-align: right;\">\n",
       "      <th></th>\n",
       "      <th>ID</th>\n",
       "    </tr>\n",
       "    <tr>\n",
       "      <th>Job title</th>\n",
       "      <th></th>\n",
       "    </tr>\n",
       "  </thead>\n",
       "  <tbody>\n",
       "    <tr>\n",
       "      <th>President</th>\n",
       "      <td>492</td>\n",
       "    </tr>\n",
       "    <tr>\n",
       "      <th>U.S. Senator</th>\n",
       "      <td>479</td>\n",
       "    </tr>\n",
       "    <tr>\n",
       "      <th>Governor</th>\n",
       "      <td>391</td>\n",
       "    </tr>\n",
       "    <tr>\n",
       "      <th>President-Elect</th>\n",
       "      <td>273</td>\n",
       "    </tr>\n",
       "    <tr>\n",
       "      <th>U.S. senator</th>\n",
       "      <td>263</td>\n",
       "    </tr>\n",
       "  </tbody>\n",
       "</table>\n",
       "</div>"
      ],
      "text/plain": [
       "                  ID\n",
       "Job title           \n",
       "President        492\n",
       "U.S. Senator     479\n",
       "Governor         391\n",
       "President-Elect  273\n",
       "U.S. senator     263"
      ]
     },
     "execution_count": 24,
     "metadata": {},
     "output_type": "execute_result"
    }
   ],
   "source": [
    "jobs = liar_df.groupby(\"Job title\").count()\n",
    "jobs = jobs.sort_values(by=['ID'], ascending = False)\n",
    "jobs = jobs[[\"ID\"]]\n",
    "jobs.head()"
   ]
  },
  {
   "cell_type": "markdown",
   "metadata": {},
   "source": [
    "### Among the liars ??"
   ]
  },
  {
   "cell_type": "markdown",
   "metadata": {},
   "source": [
    "For each Statement, we can access the job title of the speaker. That way, we can access the most frequent jobs in the liar groups for this specific dataset."
   ]
  },
  {
   "cell_type": "code",
   "execution_count": 25,
   "metadata": {},
   "outputs": [
    {
     "data": {
      "text/plain": [
       "(403, 1)"
      ]
     },
     "execution_count": 25,
     "metadata": {},
     "output_type": "execute_result"
    }
   ],
   "source": [
    "lie = liar_df[liar_df['Label'] == 'false']\n",
    "jobs_lie = lie.groupby(\"Job title\").count()\n",
    "jobs_lie = jobs_lie[[\"ID\"]]\n",
    "jobs_lie.shape"
   ]
  },
  {
   "cell_type": "code",
   "execution_count": 26,
   "metadata": {},
   "outputs": [
    {
     "data": {
      "text/html": [
       "<div>\n",
       "<style scoped>\n",
       "    .dataframe tbody tr th:only-of-type {\n",
       "        vertical-align: middle;\n",
       "    }\n",
       "\n",
       "    .dataframe tbody tr th {\n",
       "        vertical-align: top;\n",
       "    }\n",
       "\n",
       "    .dataframe thead th {\n",
       "        text-align: right;\n",
       "    }\n",
       "</style>\n",
       "<table border=\"1\" class=\"dataframe\">\n",
       "  <thead>\n",
       "    <tr style=\"text-align: right;\">\n",
       "      <th></th>\n",
       "      <th>ID</th>\n",
       "    </tr>\n",
       "    <tr>\n",
       "      <th>Job title</th>\n",
       "      <th></th>\n",
       "    </tr>\n",
       "  </thead>\n",
       "  <tbody>\n",
       "    <tr>\n",
       "      <th>President-Elect</th>\n",
       "      <td>101</td>\n",
       "    </tr>\n",
       "    <tr>\n",
       "      <th>Governor</th>\n",
       "      <td>75</td>\n",
       "    </tr>\n",
       "    <tr>\n",
       "      <th>President</th>\n",
       "      <td>68</td>\n",
       "    </tr>\n",
       "    <tr>\n",
       "      <th>U.S. Senator</th>\n",
       "      <td>66</td>\n",
       "    </tr>\n",
       "    <tr>\n",
       "      <th>U.S. senator</th>\n",
       "      <td>51</td>\n",
       "    </tr>\n",
       "  </tbody>\n",
       "</table>\n",
       "</div>"
      ],
      "text/plain": [
       "                  ID\n",
       "Job title           \n",
       "President-Elect  101\n",
       "Governor          75\n",
       "President         68\n",
       "U.S. Senator      66\n",
       "U.S. senator      51"
      ]
     },
     "execution_count": 26,
     "metadata": {},
     "output_type": "execute_result"
    }
   ],
   "source": [
    "jobs_lie = jobs_lie.sort_values(by=['ID'], ascending = False)\n",
    "jobs_lie.head()"
   ]
  },
  {
   "cell_type": "markdown",
   "metadata": {},
   "source": [
    "Because all the jobs don't have the same media coverage, it is more interesting to have the percentage of lie of the job than the raw numbers themselves"
   ]
  },
  {
   "cell_type": "code",
   "execution_count": 27,
   "metadata": {},
   "outputs": [],
   "source": [
    "jobs_lie = jobs_lie.join(jobs, lsuffix = '_lie', rsuffix = '_total')"
   ]
  },
  {
   "cell_type": "code",
   "execution_count": 28,
   "metadata": {},
   "outputs": [],
   "source": [
    "jobs_lie[\"ratio (%)\"] =jobs_lie[\"ID_lie\"]/jobs_lie[\"ID_total\"]*100"
   ]
  },
  {
   "cell_type": "code",
   "execution_count": 29,
   "metadata": {},
   "outputs": [],
   "source": [
    "jobs_lie = jobs_lie.sort_values(by=['ID_total'], ascending = False)"
   ]
  },
  {
   "cell_type": "markdown",
   "metadata": {},
   "source": [
    "### Lie in politics"
   ]
  },
  {
   "cell_type": "markdown",
   "metadata": {},
   "source": [
    "The people that have a political message generaly have a party affiliation."
   ]
  },
  {
   "cell_type": "code",
   "execution_count": 30,
   "metadata": {},
   "outputs": [
    {
     "data": {
      "text/html": [
       "<div>\n",
       "<style scoped>\n",
       "    .dataframe tbody tr th:only-of-type {\n",
       "        vertical-align: middle;\n",
       "    }\n",
       "\n",
       "    .dataframe tbody tr th {\n",
       "        vertical-align: top;\n",
       "    }\n",
       "\n",
       "    .dataframe thead th {\n",
       "        text-align: right;\n",
       "    }\n",
       "</style>\n",
       "<table border=\"1\" class=\"dataframe\">\n",
       "  <thead>\n",
       "    <tr style=\"text-align: right;\">\n",
       "      <th></th>\n",
       "      <th>ID</th>\n",
       "    </tr>\n",
       "    <tr>\n",
       "      <th>Job title</th>\n",
       "      <th></th>\n",
       "    </tr>\n",
       "  </thead>\n",
       "  <tbody>\n",
       "    <tr>\n",
       "      <th>President-Elect</th>\n",
       "      <td>101</td>\n",
       "    </tr>\n",
       "    <tr>\n",
       "      <th>Governor</th>\n",
       "      <td>75</td>\n",
       "    </tr>\n",
       "    <tr>\n",
       "      <th>President</th>\n",
       "      <td>68</td>\n",
       "    </tr>\n",
       "    <tr>\n",
       "      <th>U.S. Senator</th>\n",
       "      <td>66</td>\n",
       "    </tr>\n",
       "    <tr>\n",
       "      <th>U.S. senator</th>\n",
       "      <td>51</td>\n",
       "    </tr>\n",
       "  </tbody>\n",
       "</table>\n",
       "</div>"
      ],
      "text/plain": [
       "                  ID\n",
       "Job title           \n",
       "President-Elect  101\n",
       "Governor          75\n",
       "President         68\n",
       "U.S. Senator      66\n",
       "U.S. senator      51"
      ]
     },
     "execution_count": 30,
     "metadata": {},
     "output_type": "execute_result"
    }
   ],
   "source": [
    "lie_party = lie[lie['Party Affiliations'] != 'none']\n",
    "lie_party = lie_party.groupby(\"Job title\").count()\n",
    "lie_party = lie_party[[\"ID\"]].sort_values(by=['ID'], ascending = False)\n",
    "lie_party.head()"
   ]
  },
  {
   "cell_type": "code",
   "execution_count": 31,
   "metadata": {},
   "outputs": [
    {
     "name": "stderr",
     "output_type": "stream",
     "text": [
      "/Users/Moi/anaconda3/envs/ada/lib/python3.6/site-packages/ipykernel/__main__.py:2: UserWarning: This pattern has match groups. To actually get the groups, use str.extract.\n",
      "  from ipykernel import kernelapp as app\n"
     ]
    },
    {
     "data": {
      "text/html": [
       "<div>\n",
       "<style scoped>\n",
       "    .dataframe tbody tr th:only-of-type {\n",
       "        vertical-align: middle;\n",
       "    }\n",
       "\n",
       "    .dataframe tbody tr th {\n",
       "        vertical-align: top;\n",
       "    }\n",
       "\n",
       "    .dataframe thead th {\n",
       "        text-align: right;\n",
       "    }\n",
       "</style>\n",
       "<table border=\"1\" class=\"dataframe\">\n",
       "  <thead>\n",
       "    <tr style=\"text-align: right;\">\n",
       "      <th></th>\n",
       "      <th>ID_lie</th>\n",
       "      <th>ID_total</th>\n",
       "      <th>ratio (%)</th>\n",
       "    </tr>\n",
       "    <tr>\n",
       "      <th>Job title</th>\n",
       "      <th></th>\n",
       "      <th></th>\n",
       "      <th></th>\n",
       "    </tr>\n",
       "  </thead>\n",
       "  <tbody>\n",
       "    <tr>\n",
       "      <th>President</th>\n",
       "      <td>68</td>\n",
       "      <td>492</td>\n",
       "      <td>13.821138</td>\n",
       "    </tr>\n",
       "    <tr>\n",
       "      <th>U.S. Senator</th>\n",
       "      <td>66</td>\n",
       "      <td>479</td>\n",
       "      <td>13.778706</td>\n",
       "    </tr>\n",
       "    <tr>\n",
       "      <th>Governor</th>\n",
       "      <td>75</td>\n",
       "      <td>391</td>\n",
       "      <td>19.181586</td>\n",
       "    </tr>\n",
       "    <tr>\n",
       "      <th>President-Elect</th>\n",
       "      <td>101</td>\n",
       "      <td>273</td>\n",
       "      <td>36.996337</td>\n",
       "    </tr>\n",
       "    <tr>\n",
       "      <th>U.S. senator</th>\n",
       "      <td>51</td>\n",
       "      <td>263</td>\n",
       "      <td>19.391635</td>\n",
       "    </tr>\n",
       "  </tbody>\n",
       "</table>\n",
       "</div>"
      ],
      "text/plain": [
       "                 ID_lie  ID_total  ratio (%)\n",
       "Job title                                   \n",
       "President            68       492  13.821138\n",
       "U.S. Senator         66       479  13.778706\n",
       "Governor             75       391  19.181586\n",
       "President-Elect     101       273  36.996337\n",
       "U.S. senator         51       263  19.391635"
      ]
     },
     "execution_count": 31,
     "metadata": {},
     "output_type": "execute_result"
    }
   ],
   "source": [
    "politics_regex = re.compile(r'\\b(mayor|president|council|house|candidate|political|assembly|republican|governor|senator)[s]*\\b' ,re.I)\n",
    "politics_liar_sets = jobs_lie[jobs_lie.index.str.contains(politics_regex, regex=True) == True]\n",
    "politics_liar_sets.head()"
   ]
  },
  {
   "cell_type": "markdown",
   "metadata": {},
   "source": [
    "---\n",
    "## Highlight which political parties tend to lie the most."
   ]
  },
  {
   "cell_type": "code",
   "execution_count": 32,
   "metadata": {},
   "outputs": [
    {
     "data": {
      "text/html": [
       "<div>\n",
       "<style scoped>\n",
       "    .dataframe tbody tr th:only-of-type {\n",
       "        vertical-align: middle;\n",
       "    }\n",
       "\n",
       "    .dataframe tbody tr th {\n",
       "        vertical-align: top;\n",
       "    }\n",
       "\n",
       "    .dataframe thead tr th {\n",
       "        text-align: left;\n",
       "    }\n",
       "\n",
       "    .dataframe thead tr:last-of-type th {\n",
       "        text-align: right;\n",
       "    }\n",
       "</style>\n",
       "<table border=\"1\" class=\"dataframe\">\n",
       "  <thead>\n",
       "    <tr>\n",
       "      <th></th>\n",
       "      <th colspan=\"6\" halign=\"left\">Count</th>\n",
       "    </tr>\n",
       "    <tr>\n",
       "      <th>Label</th>\n",
       "      <th>false</th>\n",
       "      <th>pants-fire</th>\n",
       "      <th>barely-true</th>\n",
       "      <th>half-true</th>\n",
       "      <th>mostly-true</th>\n",
       "      <th>true</th>\n",
       "    </tr>\n",
       "    <tr>\n",
       "      <th>Party Affiliations</th>\n",
       "      <th></th>\n",
       "      <th></th>\n",
       "      <th></th>\n",
       "      <th></th>\n",
       "      <th></th>\n",
       "      <th></th>\n",
       "    </tr>\n",
       "  </thead>\n",
       "  <tbody>\n",
       "    <tr>\n",
       "      <th>republican</th>\n",
       "      <td>1028.0</td>\n",
       "      <td>380.0</td>\n",
       "      <td>832.0</td>\n",
       "      <td>890.0</td>\n",
       "      <td>707.0</td>\n",
       "      <td>660.0</td>\n",
       "    </tr>\n",
       "    <tr>\n",
       "      <th>democrat</th>\n",
       "      <td>511.0</td>\n",
       "      <td>153.0</td>\n",
       "      <td>463.0</td>\n",
       "      <td>750.0</td>\n",
       "      <td>801.0</td>\n",
       "      <td>658.0</td>\n",
       "    </tr>\n",
       "    <tr>\n",
       "      <th>none</th>\n",
       "      <td>326.0</td>\n",
       "      <td>269.0</td>\n",
       "      <td>261.0</td>\n",
       "      <td>327.0</td>\n",
       "      <td>315.0</td>\n",
       "      <td>246.0</td>\n",
       "    </tr>\n",
       "    <tr>\n",
       "      <th>organization</th>\n",
       "      <td>50.0</td>\n",
       "      <td>17.0</td>\n",
       "      <td>45.0</td>\n",
       "      <td>59.0</td>\n",
       "      <td>24.0</td>\n",
       "      <td>24.0</td>\n",
       "    </tr>\n",
       "    <tr>\n",
       "      <th>independent</th>\n",
       "      <td>18.0</td>\n",
       "      <td>3.0</td>\n",
       "      <td>19.0</td>\n",
       "      <td>27.0</td>\n",
       "      <td>51.0</td>\n",
       "      <td>29.0</td>\n",
       "    </tr>\n",
       "    <tr>\n",
       "      <th>journalist</th>\n",
       "      <td>10.0</td>\n",
       "      <td>1.0</td>\n",
       "      <td>5.0</td>\n",
       "      <td>6.0</td>\n",
       "      <td>11.0</td>\n",
       "      <td>5.0</td>\n",
       "    </tr>\n",
       "    <tr>\n",
       "      <th>columnist</th>\n",
       "      <td>10.0</td>\n",
       "      <td>1.0</td>\n",
       "      <td>5.0</td>\n",
       "      <td>3.0</td>\n",
       "      <td>5.0</td>\n",
       "      <td>11.0</td>\n",
       "    </tr>\n",
       "    <tr>\n",
       "      <th>talk-show-host</th>\n",
       "      <td>9.0</td>\n",
       "      <td>4.0</td>\n",
       "      <td>2.0</td>\n",
       "      <td>6.0</td>\n",
       "      <td>0.0</td>\n",
       "      <td>5.0</td>\n",
       "    </tr>\n",
       "    <tr>\n",
       "      <th>newsmaker</th>\n",
       "      <td>9.0</td>\n",
       "      <td>3.0</td>\n",
       "      <td>7.0</td>\n",
       "      <td>11.0</td>\n",
       "      <td>11.0</td>\n",
       "      <td>15.0</td>\n",
       "    </tr>\n",
       "    <tr>\n",
       "      <th>activist</th>\n",
       "      <td>7.0</td>\n",
       "      <td>0.0</td>\n",
       "      <td>7.0</td>\n",
       "      <td>9.0</td>\n",
       "      <td>11.0</td>\n",
       "      <td>5.0</td>\n",
       "    </tr>\n",
       "    <tr>\n",
       "      <th>libertarian</th>\n",
       "      <td>6.0</td>\n",
       "      <td>3.0</td>\n",
       "      <td>4.0</td>\n",
       "      <td>12.0</td>\n",
       "      <td>9.0</td>\n",
       "      <td>6.0</td>\n",
       "    </tr>\n",
       "    <tr>\n",
       "      <th>labor-leader</th>\n",
       "      <td>2.0</td>\n",
       "      <td>1.0</td>\n",
       "      <td>2.0</td>\n",
       "      <td>1.0</td>\n",
       "      <td>3.0</td>\n",
       "      <td>2.0</td>\n",
       "    </tr>\n",
       "    <tr>\n",
       "      <th>tea-party-member</th>\n",
       "      <td>2.0</td>\n",
       "      <td>1.0</td>\n",
       "      <td>0.0</td>\n",
       "      <td>4.0</td>\n",
       "      <td>3.0</td>\n",
       "      <td>0.0</td>\n",
       "    </tr>\n",
       "    <tr>\n",
       "      <th>green</th>\n",
       "      <td>1.0</td>\n",
       "      <td>1.0</td>\n",
       "      <td>0.0</td>\n",
       "      <td>0.0</td>\n",
       "      <td>0.0</td>\n",
       "      <td>1.0</td>\n",
       "    </tr>\n",
       "    <tr>\n",
       "      <th>constitution-party</th>\n",
       "      <td>1.0</td>\n",
       "      <td>0.0</td>\n",
       "      <td>0.0</td>\n",
       "      <td>0.0</td>\n",
       "      <td>0.0</td>\n",
       "      <td>0.0</td>\n",
       "    </tr>\n",
       "    <tr>\n",
       "      <th>state-official</th>\n",
       "      <td>1.0</td>\n",
       "      <td>0.0</td>\n",
       "      <td>1.0</td>\n",
       "      <td>8.0</td>\n",
       "      <td>6.0</td>\n",
       "      <td>4.0</td>\n",
       "    </tr>\n",
       "    <tr>\n",
       "      <th>business-leader</th>\n",
       "      <td>1.0</td>\n",
       "      <td>2.0</td>\n",
       "      <td>0.0</td>\n",
       "      <td>0.0</td>\n",
       "      <td>1.0</td>\n",
       "      <td>5.0</td>\n",
       "    </tr>\n",
       "    <tr>\n",
       "      <th>Moderate</th>\n",
       "      <td>1.0</td>\n",
       "      <td>0.0</td>\n",
       "      <td>0.0</td>\n",
       "      <td>0.0</td>\n",
       "      <td>0.0</td>\n",
       "      <td>0.0</td>\n",
       "    </tr>\n",
       "    <tr>\n",
       "      <th>liberal-party-canada</th>\n",
       "      <td>0.0</td>\n",
       "      <td>0.0</td>\n",
       "      <td>0.0</td>\n",
       "      <td>0.0</td>\n",
       "      <td>1.0</td>\n",
       "      <td>0.0</td>\n",
       "    </tr>\n",
       "    <tr>\n",
       "      <th>government-body</th>\n",
       "      <td>0.0</td>\n",
       "      <td>0.0</td>\n",
       "      <td>0.0</td>\n",
       "      <td>0.0</td>\n",
       "      <td>1.0</td>\n",
       "      <td>0.0</td>\n",
       "    </tr>\n",
       "    <tr>\n",
       "      <th>education-official</th>\n",
       "      <td>0.0</td>\n",
       "      <td>0.0</td>\n",
       "      <td>0.0</td>\n",
       "      <td>0.0</td>\n",
       "      <td>2.0</td>\n",
       "      <td>0.0</td>\n",
       "    </tr>\n",
       "    <tr>\n",
       "      <th>ocean-state-tea-party-action</th>\n",
       "      <td>0.0</td>\n",
       "      <td>0.0</td>\n",
       "      <td>1.0</td>\n",
       "      <td>0.0</td>\n",
       "      <td>0.0</td>\n",
       "      <td>0.0</td>\n",
       "    </tr>\n",
       "    <tr>\n",
       "      <th>democratic-farmer-labor</th>\n",
       "      <td>0.0</td>\n",
       "      <td>0.0</td>\n",
       "      <td>0.0</td>\n",
       "      <td>1.0</td>\n",
       "      <td>0.0</td>\n",
       "      <td>0.0</td>\n",
       "    </tr>\n",
       "  </tbody>\n",
       "</table>\n",
       "</div>"
      ],
      "text/plain": [
       "                               Count                                   \\\n",
       "Label                          false pants-fire barely-true half-true   \n",
       "Party Affiliations                                                      \n",
       "republican                    1028.0      380.0       832.0     890.0   \n",
       "democrat                       511.0      153.0       463.0     750.0   \n",
       "none                           326.0      269.0       261.0     327.0   \n",
       "organization                    50.0       17.0        45.0      59.0   \n",
       "independent                     18.0        3.0        19.0      27.0   \n",
       "journalist                      10.0        1.0         5.0       6.0   \n",
       "columnist                       10.0        1.0         5.0       3.0   \n",
       "talk-show-host                   9.0        4.0         2.0       6.0   \n",
       "newsmaker                        9.0        3.0         7.0      11.0   \n",
       "activist                         7.0        0.0         7.0       9.0   \n",
       "libertarian                      6.0        3.0         4.0      12.0   \n",
       "labor-leader                     2.0        1.0         2.0       1.0   \n",
       "tea-party-member                 2.0        1.0         0.0       4.0   \n",
       "green                            1.0        1.0         0.0       0.0   \n",
       "constitution-party               1.0        0.0         0.0       0.0   \n",
       "state-official                   1.0        0.0         1.0       8.0   \n",
       "business-leader                  1.0        2.0         0.0       0.0   \n",
       "Moderate                         1.0        0.0         0.0       0.0   \n",
       "liberal-party-canada             0.0        0.0         0.0       0.0   \n",
       "government-body                  0.0        0.0         0.0       0.0   \n",
       "education-official               0.0        0.0         0.0       0.0   \n",
       "ocean-state-tea-party-action     0.0        0.0         1.0       0.0   \n",
       "democratic-farmer-labor          0.0        0.0         0.0       1.0   \n",
       "\n",
       "                                                 \n",
       "Label                        mostly-true   true  \n",
       "Party Affiliations                               \n",
       "republican                         707.0  660.0  \n",
       "democrat                           801.0  658.0  \n",
       "none                               315.0  246.0  \n",
       "organization                        24.0   24.0  \n",
       "independent                         51.0   29.0  \n",
       "journalist                          11.0    5.0  \n",
       "columnist                            5.0   11.0  \n",
       "talk-show-host                       0.0    5.0  \n",
       "newsmaker                           11.0   15.0  \n",
       "activist                            11.0    5.0  \n",
       "libertarian                          9.0    6.0  \n",
       "labor-leader                         3.0    2.0  \n",
       "tea-party-member                     3.0    0.0  \n",
       "green                                0.0    1.0  \n",
       "constitution-party                   0.0    0.0  \n",
       "state-official                       6.0    4.0  \n",
       "business-leader                      1.0    5.0  \n",
       "Moderate                             0.0    0.0  \n",
       "liberal-party-canada                 1.0    0.0  \n",
       "government-body                      1.0    0.0  \n",
       "education-official                   2.0    0.0  \n",
       "ocean-state-tea-party-action         0.0    0.0  \n",
       "democratic-farmer-labor              0.0    0.0  "
      ]
     },
     "execution_count": 32,
     "metadata": {},
     "output_type": "execute_result"
    }
   ],
   "source": [
    "col = \"Party Affiliations\"\n",
    "df = liar_df[[col, \"ID\", \"Label\"]]\n",
    "df.columns = [col, \"Count\", \"Label\"]\n",
    "col_subject = df.groupby([col, \"Label\"]).count()[[\"Count\"]]\n",
    "col_subject = col_subject.unstack('Label')\n",
    "col_subject = col_subject.fillna(0)\n",
    "col_subject = col_subject.sort_values(by=[('Count', 'false')], ascending = False)\n",
    "col_subject = col_subject[[('Count', 'false'), ('Count', 'pants-fire'), ('Count', 'barely-true'),('Count', 'half-true'),('Count', 'mostly-true'),('Count', 'true')]]\n",
    "col_subject"
   ]
  },
  {
   "cell_type": "code",
   "execution_count": 33,
   "metadata": {},
   "outputs": [],
   "source": [
    "col_subject = col_subject.head(2)\n",
    "normalized_col_subject = col_subject.div(col_subject.sum(axis = 1),axis = 'index')\n",
    "normalized_col_subject =normalized_col_subject.transpose()"
   ]
  },
  {
   "cell_type": "code",
   "execution_count": 34,
   "metadata": {},
   "outputs": [
    {
     "data": {
      "text/plain": [
       "<matplotlib.axes._subplots.AxesSubplot at 0x1161ae358>"
      ]
     },
     "execution_count": 34,
     "metadata": {},
     "output_type": "execute_result"
    },
    {
     "data": {
      "image/png": "[encoded data removed]",
      "text/plain": [
       "<Figure size 432x288 with 1 Axes>"
      ]
     },
     "metadata": {
      "needs_background": "light"
     },
     "output_type": "display_data"
    }
   ],
   "source": [
    "normalized_col_subject.plot(kind='bar')"
   ]
  },
  {
   "cell_type": "markdown",
   "metadata": {},
   "source": [
    "---\n",
    "## Test data visualisation"
   ]
  },
  {
   "cell_type": "code",
   "execution_count": 35,
   "metadata": {},
   "outputs": [],
   "source": [
    "from wordcloud import WordCloud\n",
    "\n",
    "# Read the whole text.\n",
    "text = open('res/test_plain_text.txt').read()"
   ]
  },
  {
   "cell_type": "code",
   "execution_count": 36,
   "metadata": {},
   "outputs": [],
   "source": [
    "text = BeautifulSoup(get_additional_info(\"1123.json\")['statement'], 'html.parser').prettify()"
   ]
  },
  {
   "cell_type": "code",
   "execution_count": 37,
   "metadata": {},
   "outputs": [
    {
     "data": {
      "text/plain": [
       "'<p>\\n Health care reform legislation is “likely to mandate free ‘sex change’ surgeries.”\\n</p>'"
      ]
     },
     "execution_count": 37,
     "metadata": {},
     "output_type": "execute_result"
    }
   ],
   "source": [
    "text"
   ]
  },
  {
   "cell_type": "code",
   "execution_count": 38,
   "metadata": {},
   "outputs": [
    {
     "data": {
      "image/png": "[encoded data removed]",
      "text/plain": [
       "<Figure size 432x288 with 1 Axes>"
      ]
     },
     "metadata": {
      "needs_background": "light"
     },
     "output_type": "display_data"
    },
    {
     "data": {
      "image/png": "[encoded data removed]",
      "text/plain": [
       "<Figure size 432x288 with 1 Axes>"
      ]
     },
     "metadata": {
      "needs_background": "light"
     },
     "output_type": "display_data"
    }
   ],
   "source": [
    "# Generate a word cloud image\n",
    "wordcloud = WordCloud().generate(text)\n",
    "\n",
    "# Display the generated image:\n",
    "# the matplotlib way:\n",
    "import matplotlib.pyplot as plt\n",
    "plt.imshow(wordcloud, interpolation='bilinear')\n",
    "plt.axis(\"off\")\n",
    "\n",
    "# lower max_font_size\n",
    "wordcloud = WordCloud(max_font_size=40).generate(text)\n",
    "plt.figure()\n",
    "plt.imshow(wordcloud, interpolation=\"bilinear\")\n",
    "plt.axis(\"off\")\n",
    "plt.show()"
   ]
  },
  {
   "cell_type": "code",
   "execution_count": 39,
   "metadata": {},
   "outputs": [
    {
     "data": {
      "image/png": "[encoded data removed]",
      "text/plain": [
       "<Figure size 432x288 with 1 Axes>"
      ]
     },
     "metadata": {
      "needs_background": "light"
     },
     "output_type": "display_data"
    },
    {
     "data": {
      "text/plain": [
       "<Figure size 432x288 with 0 Axes>"
      ]
     },
     "metadata": {},
     "output_type": "display_data"
    }
   ],
   "source": [
    "text = open('res/test_plain_text.txt').read()\n",
    "#text = BeautifulSoup(get_additional_info(\"1123.json\")['statement'], 'html.parser').prettify()\n",
    "# read the mask image\n",
    "# taken from\n",
    "# http://www.stencilry.org/stencils/movies/alice%20in%20wonderland/255fk.jpg\n",
    "trump_mask = np.array(Image.open('res/Trumpy3.png'))\n",
    "wc = WordCloud(background_color=\"white\", max_words=2000, mask=trump_mask,contour_width=0, contour_color='steelblue')\n",
    "\n",
    "# generate word cloud\n",
    "wc.generate(text)\n",
    "\n",
    "# show\n",
    "plt.imshow(wc, interpolation='bilinear')\n",
    "plt.axis(\"off\")\n",
    "plt.figure()\n",
    "plt.show()"
   ]
  },
  {
   "cell_type": "code",
   "execution_count": 40,
   "metadata": {},
   "outputs": [],
   "source": [
    "#https://matplotlib.org/gallery/images_contours_and_fields/image_clip_path.html#sphx-glr-gallery-images-contours-and-fields-image-clip-path-py\n",
    "#https://www.politifact.com//api/v/2/statement/1123/?format=json"
   ]
  }
 ],
 "metadata": {
  "kernelspec": {
   "display_name": "Python [conda env:ada]",
   "language": "python",
   "name": "conda-env-ada-py"
  },
  "language_info": {
   "codemirror_mode": {
    "name": "ipython",
    "version": 3
   },
   "file_extension": ".py",
   "mimetype": "text/x-python",
   "name": "python",
   "nbconvert_exporter": "python",
   "pygments_lexer": "ipython3",
   "version": "3.6.6"
  }
 },
 "nbformat": 4,
 "nbformat_minor": 2
}
